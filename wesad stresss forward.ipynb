{
 "cells": [
  {
   "cell_type": "markdown",
   "metadata": {},
   "source": [
    "importing libraries"
   ]
  },
  {
   "cell_type": "code",
   "execution_count": 1,
   "metadata": {},
   "outputs": [],
   "source": [
    "import numpy as np\n",
    "import pandas as pd\n",
    "import seaborn as sns\n",
    "import matplotlib.pyplot as plt\n",
    "from sklearn.preprocessing import LabelEncoder\n",
    "from sklearn.preprocessing import MinMaxScaler\n",
    "from sklearn.model_selection import train_test_split\n",
    "from sklearn.feature_selection import SelectKBest, f_classif,chi2,mutual_info_classif\n",
    "from sklearn.metrics import confusion_matrix\n",
    "from sklearn.metrics import f1_score,precision_score,recall_score,accuracy_score\n",
    "from sklearn.metrics import mean_absolute_error,mean_squared_error"
   ]
  },
  {
   "cell_type": "code",
   "execution_count": 2,
   "metadata": {},
   "outputs": [],
   "source": [
    "from sklearn.linear_model import LogisticRegression\n",
    "from sklearn.naive_bayes import GaussianNB\n",
    "from sklearn.neighbors import KNeighborsClassifier\n",
    "from sklearn.svm import SVC\n",
    "from sklearn.tree import DecisionTreeClassifier\n",
    "from sklearn.ensemble import RandomForestClassifier\n",
    "from sklearn.ensemble import BaggingClassifier\n",
    "from sklearn.ensemble import AdaBoostClassifier\n",
    "from keras.models import Sequential\n",
    "from keras.layers import Dense, Dropout, Activation"
   ]
  },
  {
   "cell_type": "markdown",
   "metadata": {},
   "source": [
    "reading data from csv"
   ]
  },
  {
   "cell_type": "code",
   "execution_count": 3,
   "metadata": {},
   "outputs": [],
   "source": [
    "data=pd.read_csv(r'C:\\Users\\anura\\Downloads\\stresssss\\WESAD (Raw and Processed)\\dataset\\2. final\\datasets\\hrv\\wesad\\combined\\classification\\wesad-chest-combined-classification-hrv.csv')\n",
    "test=pd.read_csv(r'C:\\Users\\anura\\Downloads\\stresssss\\WESAD (Raw and Processed)\\dataset\\2. final\\datasets\\hrv\\wesad\\combined\\classification\\wesad-classification-hrv-validation-dataset.csv')"
   ]
  },
  {
   "cell_type": "code",
   "execution_count": 4,
   "metadata": {},
   "outputs": [
    {
     "data": {
      "text/html": [
       "<div>\n",
       "<style scoped>\n",
       "    .dataframe tbody tr th:only-of-type {\n",
       "        vertical-align: middle;\n",
       "    }\n",
       "\n",
       "    .dataframe tbody tr th {\n",
       "        vertical-align: top;\n",
       "    }\n",
       "\n",
       "    .dataframe thead th {\n",
       "        text-align: right;\n",
       "    }\n",
       "</style>\n",
       "<table border=\"1\" class=\"dataframe\">\n",
       "  <thead>\n",
       "    <tr style=\"text-align: right;\">\n",
       "      <th></th>\n",
       "      <th>MEAN_RR</th>\n",
       "      <th>MEDIAN_RR</th>\n",
       "      <th>SDRR</th>\n",
       "      <th>RMSSD</th>\n",
       "      <th>SDSD</th>\n",
       "      <th>SDRR_RMSSD</th>\n",
       "      <th>HR</th>\n",
       "      <th>pNN25</th>\n",
       "      <th>pNN50</th>\n",
       "      <th>SD1</th>\n",
       "      <th>...</th>\n",
       "      <th>MEAN_RR_MEAN_MEAN_REL_RR</th>\n",
       "      <th>SD2_LF</th>\n",
       "      <th>HR_LF</th>\n",
       "      <th>HR_HF</th>\n",
       "      <th>HF_VLF</th>\n",
       "      <th>subject id</th>\n",
       "      <th>condition</th>\n",
       "      <th>SSSQ class</th>\n",
       "      <th>SSSQ Label</th>\n",
       "      <th>condition label</th>\n",
       "    </tr>\n",
       "  </thead>\n",
       "  <tbody>\n",
       "    <tr>\n",
       "      <th>0</th>\n",
       "      <td>836.287509</td>\n",
       "      <td>836.542330</td>\n",
       "      <td>74.347097</td>\n",
       "      <td>18.992200</td>\n",
       "      <td>18.990146</td>\n",
       "      <td>3.914612</td>\n",
       "      <td>72.328641</td>\n",
       "      <td>20.25</td>\n",
       "      <td>0.25</td>\n",
       "      <td>13.444920</td>\n",
       "      <td>...</td>\n",
       "      <td>3.929834e+06</td>\n",
       "      <td>0.057583</td>\n",
       "      <td>0.039940</td>\n",
       "      <td>4.192356</td>\n",
       "      <td>0.010687</td>\n",
       "      <td>11</td>\n",
       "      <td>baseline</td>\n",
       "      <td>low</td>\n",
       "      <td>0</td>\n",
       "      <td>0</td>\n",
       "    </tr>\n",
       "    <tr>\n",
       "      <th>1</th>\n",
       "      <td>885.066916</td>\n",
       "      <td>888.885335</td>\n",
       "      <td>54.149345</td>\n",
       "      <td>10.603410</td>\n",
       "      <td>10.602391</td>\n",
       "      <td>5.106786</td>\n",
       "      <td>68.058181</td>\n",
       "      <td>2.00</td>\n",
       "      <td>0.00</td>\n",
       "      <td>7.506435</td>\n",
       "      <td>...</td>\n",
       "      <td>5.925739e+06</td>\n",
       "      <td>0.150989</td>\n",
       "      <td>0.134839</td>\n",
       "      <td>12.918568</td>\n",
       "      <td>0.007719</td>\n",
       "      <td>6</td>\n",
       "      <td>baseline</td>\n",
       "      <td>medium</td>\n",
       "      <td>1</td>\n",
       "      <td>0</td>\n",
       "    </tr>\n",
       "    <tr>\n",
       "      <th>2</th>\n",
       "      <td>617.957952</td>\n",
       "      <td>611.532195</td>\n",
       "      <td>62.909515</td>\n",
       "      <td>11.314677</td>\n",
       "      <td>11.314522</td>\n",
       "      <td>5.559992</td>\n",
       "      <td>98.041651</td>\n",
       "      <td>3.25</td>\n",
       "      <td>0.25</td>\n",
       "      <td>8.010620</td>\n",
       "      <td>...</td>\n",
       "      <td>6.120832e+06</td>\n",
       "      <td>0.079972</td>\n",
       "      <td>0.088488</td>\n",
       "      <td>3.443774</td>\n",
       "      <td>0.017516</td>\n",
       "      <td>13</td>\n",
       "      <td>stress</td>\n",
       "      <td>medium</td>\n",
       "      <td>1</td>\n",
       "      <td>2</td>\n",
       "    </tr>\n",
       "    <tr>\n",
       "      <th>3</th>\n",
       "      <td>590.628007</td>\n",
       "      <td>578.585925</td>\n",
       "      <td>51.127837</td>\n",
       "      <td>13.373595</td>\n",
       "      <td>13.370766</td>\n",
       "      <td>3.823043</td>\n",
       "      <td>102.292102</td>\n",
       "      <td>7.25</td>\n",
       "      <td>0.75</td>\n",
       "      <td>9.466430</td>\n",
       "      <td>...</td>\n",
       "      <td>1.819001e+06</td>\n",
       "      <td>0.056556</td>\n",
       "      <td>0.080706</td>\n",
       "      <td>1.164296</td>\n",
       "      <td>0.243491</td>\n",
       "      <td>17</td>\n",
       "      <td>stress</td>\n",
       "      <td>medium</td>\n",
       "      <td>1</td>\n",
       "      <td>2</td>\n",
       "    </tr>\n",
       "    <tr>\n",
       "      <th>4</th>\n",
       "      <td>705.684374</td>\n",
       "      <td>702.068590</td>\n",
       "      <td>46.416132</td>\n",
       "      <td>9.503709</td>\n",
       "      <td>9.494806</td>\n",
       "      <td>4.884002</td>\n",
       "      <td>85.390357</td>\n",
       "      <td>2.75</td>\n",
       "      <td>0.00</td>\n",
       "      <td>6.722271</td>\n",
       "      <td>...</td>\n",
       "      <td>1.128313e+06</td>\n",
       "      <td>0.132048</td>\n",
       "      <td>0.172682</td>\n",
       "      <td>2.749117</td>\n",
       "      <td>0.066276</td>\n",
       "      <td>13</td>\n",
       "      <td>baseline</td>\n",
       "      <td>medium</td>\n",
       "      <td>1</td>\n",
       "      <td>0</td>\n",
       "    </tr>\n",
       "  </tbody>\n",
       "</table>\n",
       "<p>5 rows × 67 columns</p>\n",
       "</div>"
      ],
      "text/plain": [
       "      MEAN_RR   MEDIAN_RR       SDRR      RMSSD       SDSD  SDRR_RMSSD  \\\n",
       "0  836.287509  836.542330  74.347097  18.992200  18.990146    3.914612   \n",
       "1  885.066916  888.885335  54.149345  10.603410  10.602391    5.106786   \n",
       "2  617.957952  611.532195  62.909515  11.314677  11.314522    5.559992   \n",
       "3  590.628007  578.585925  51.127837  13.373595  13.370766    3.823043   \n",
       "4  705.684374  702.068590  46.416132   9.503709   9.494806    4.884002   \n",
       "\n",
       "           HR  pNN25  pNN50        SD1  ...  MEAN_RR_MEAN_MEAN_REL_RR  \\\n",
       "0   72.328641  20.25   0.25  13.444920  ...              3.929834e+06   \n",
       "1   68.058181   2.00   0.00   7.506435  ...              5.925739e+06   \n",
       "2   98.041651   3.25   0.25   8.010620  ...              6.120832e+06   \n",
       "3  102.292102   7.25   0.75   9.466430  ...              1.819001e+06   \n",
       "4   85.390357   2.75   0.00   6.722271  ...              1.128313e+06   \n",
       "\n",
       "     SD2_LF     HR_LF      HR_HF    HF_VLF  subject id  condition  SSSQ class  \\\n",
       "0  0.057583  0.039940   4.192356  0.010687          11   baseline         low   \n",
       "1  0.150989  0.134839  12.918568  0.007719           6   baseline      medium   \n",
       "2  0.079972  0.088488   3.443774  0.017516          13     stress      medium   \n",
       "3  0.056556  0.080706   1.164296  0.243491          17     stress      medium   \n",
       "4  0.132048  0.172682   2.749117  0.066276          13   baseline      medium   \n",
       "\n",
       "   SSSQ Label  condition label  \n",
       "0           0                0  \n",
       "1           1                0  \n",
       "2           1                2  \n",
       "3           1                2  \n",
       "4           1                0  \n",
       "\n",
       "[5 rows x 67 columns]"
      ]
     },
     "execution_count": 4,
     "metadata": {},
     "output_type": "execute_result"
    }
   ],
   "source": [
    "test.head(5)"
   ]
  },
  {
   "cell_type": "code",
   "execution_count": 5,
   "metadata": {},
   "outputs": [
    {
     "data": {
      "text/html": [
       "<div>\n",
       "<style scoped>\n",
       "    .dataframe tbody tr th:only-of-type {\n",
       "        vertical-align: middle;\n",
       "    }\n",
       "\n",
       "    .dataframe tbody tr th {\n",
       "        vertical-align: top;\n",
       "    }\n",
       "\n",
       "    .dataframe thead th {\n",
       "        text-align: right;\n",
       "    }\n",
       "</style>\n",
       "<table border=\"1\" class=\"dataframe\">\n",
       "  <thead>\n",
       "    <tr style=\"text-align: right;\">\n",
       "      <th></th>\n",
       "      <th>MEAN_RR</th>\n",
       "      <th>MEDIAN_RR</th>\n",
       "      <th>SDRR</th>\n",
       "      <th>RMSSD</th>\n",
       "      <th>SDSD</th>\n",
       "      <th>SDRR_RMSSD</th>\n",
       "      <th>HR</th>\n",
       "      <th>pNN25</th>\n",
       "      <th>pNN50</th>\n",
       "      <th>SD1</th>\n",
       "      <th>...</th>\n",
       "      <th>MEAN_RR_MEAN_MEAN_REL_RR</th>\n",
       "      <th>SD2_LF</th>\n",
       "      <th>HR_LF</th>\n",
       "      <th>HR_HF</th>\n",
       "      <th>HF_VLF</th>\n",
       "      <th>subject id</th>\n",
       "      <th>condition</th>\n",
       "      <th>SSSQ class</th>\n",
       "      <th>SSSQ Label</th>\n",
       "      <th>condition label</th>\n",
       "    </tr>\n",
       "  </thead>\n",
       "  <tbody>\n",
       "    <tr>\n",
       "      <th>0</th>\n",
       "      <td>660.756625</td>\n",
       "      <td>657.242305</td>\n",
       "      <td>34.857082</td>\n",
       "      <td>7.408307</td>\n",
       "      <td>7.408129</td>\n",
       "      <td>4.705134</td>\n",
       "      <td>91.050077</td>\n",
       "      <td>1.75</td>\n",
       "      <td>0.00</td>\n",
       "      <td>5.244915</td>\n",
       "      <td>...</td>\n",
       "      <td>1.092856e+07</td>\n",
       "      <td>0.134410</td>\n",
       "      <td>0.249678</td>\n",
       "      <td>7.068440</td>\n",
       "      <td>0.033515</td>\n",
       "      <td>13</td>\n",
       "      <td>baseline</td>\n",
       "      <td>medium</td>\n",
       "      <td>1</td>\n",
       "      <td>0</td>\n",
       "    </tr>\n",
       "    <tr>\n",
       "      <th>1</th>\n",
       "      <td>762.004543</td>\n",
       "      <td>769.028815</td>\n",
       "      <td>106.035926</td>\n",
       "      <td>13.591780</td>\n",
       "      <td>13.580221</td>\n",
       "      <td>7.801475</td>\n",
       "      <td>80.267696</td>\n",
       "      <td>6.00</td>\n",
       "      <td>1.00</td>\n",
       "      <td>9.614723</td>\n",
       "      <td>...</td>\n",
       "      <td>-1.039564e+06</td>\n",
       "      <td>0.125816</td>\n",
       "      <td>0.067484</td>\n",
       "      <td>5.971604</td>\n",
       "      <td>0.003921</td>\n",
       "      <td>9</td>\n",
       "      <td>baseline</td>\n",
       "      <td>low</td>\n",
       "      <td>0</td>\n",
       "      <td>0</td>\n",
       "    </tr>\n",
       "    <tr>\n",
       "      <th>2</th>\n",
       "      <td>978.587122</td>\n",
       "      <td>973.028365</td>\n",
       "      <td>80.323113</td>\n",
       "      <td>20.318045</td>\n",
       "      <td>20.316451</td>\n",
       "      <td>3.953289</td>\n",
       "      <td>61.720802</td>\n",
       "      <td>20.50</td>\n",
       "      <td>1.50</td>\n",
       "      <td>14.383937</td>\n",
       "      <td>...</td>\n",
       "      <td>-3.073518e+06</td>\n",
       "      <td>0.069888</td>\n",
       "      <td>0.038281</td>\n",
       "      <td>10.945519</td>\n",
       "      <td>0.003154</td>\n",
       "      <td>4</td>\n",
       "      <td>amusement</td>\n",
       "      <td>medium</td>\n",
       "      <td>1</td>\n",
       "      <td>1</td>\n",
       "    </tr>\n",
       "    <tr>\n",
       "      <th>3</th>\n",
       "      <td>690.333891</td>\n",
       "      <td>669.548460</td>\n",
       "      <td>79.677822</td>\n",
       "      <td>15.173680</td>\n",
       "      <td>15.173087</td>\n",
       "      <td>5.251055</td>\n",
       "      <td>87.996270</td>\n",
       "      <td>8.75</td>\n",
       "      <td>1.50</td>\n",
       "      <td>10.742463</td>\n",
       "      <td>...</td>\n",
       "      <td>-4.341078e+06</td>\n",
       "      <td>0.094345</td>\n",
       "      <td>0.074014</td>\n",
       "      <td>2.435759</td>\n",
       "      <td>0.009692</td>\n",
       "      <td>8</td>\n",
       "      <td>stress</td>\n",
       "      <td>low</td>\n",
       "      <td>0</td>\n",
       "      <td>2</td>\n",
       "    </tr>\n",
       "    <tr>\n",
       "      <th>4</th>\n",
       "      <td>724.270331</td>\n",
       "      <td>721.597785</td>\n",
       "      <td>71.663062</td>\n",
       "      <td>13.580379</td>\n",
       "      <td>13.580370</td>\n",
       "      <td>5.276956</td>\n",
       "      <td>83.637107</td>\n",
       "      <td>5.00</td>\n",
       "      <td>0.75</td>\n",
       "      <td>9.614828</td>\n",
       "      <td>...</td>\n",
       "      <td>1.311140e+07</td>\n",
       "      <td>0.076385</td>\n",
       "      <td>0.063323</td>\n",
       "      <td>3.259253</td>\n",
       "      <td>0.014438</td>\n",
       "      <td>4</td>\n",
       "      <td>stress</td>\n",
       "      <td>medium</td>\n",
       "      <td>1</td>\n",
       "      <td>2</td>\n",
       "    </tr>\n",
       "  </tbody>\n",
       "</table>\n",
       "<p>5 rows × 67 columns</p>\n",
       "</div>"
      ],
      "text/plain": [
       "      MEAN_RR   MEDIAN_RR        SDRR      RMSSD       SDSD  SDRR_RMSSD  \\\n",
       "0  660.756625  657.242305   34.857082   7.408307   7.408129    4.705134   \n",
       "1  762.004543  769.028815  106.035926  13.591780  13.580221    7.801475   \n",
       "2  978.587122  973.028365   80.323113  20.318045  20.316451    3.953289   \n",
       "3  690.333891  669.548460   79.677822  15.173680  15.173087    5.251055   \n",
       "4  724.270331  721.597785   71.663062  13.580379  13.580370    5.276956   \n",
       "\n",
       "          HR  pNN25  pNN50        SD1  ...  MEAN_RR_MEAN_MEAN_REL_RR  \\\n",
       "0  91.050077   1.75   0.00   5.244915  ...              1.092856e+07   \n",
       "1  80.267696   6.00   1.00   9.614723  ...             -1.039564e+06   \n",
       "2  61.720802  20.50   1.50  14.383937  ...             -3.073518e+06   \n",
       "3  87.996270   8.75   1.50  10.742463  ...             -4.341078e+06   \n",
       "4  83.637107   5.00   0.75   9.614828  ...              1.311140e+07   \n",
       "\n",
       "     SD2_LF     HR_LF      HR_HF    HF_VLF  subject id  condition  SSSQ class  \\\n",
       "0  0.134410  0.249678   7.068440  0.033515          13   baseline      medium   \n",
       "1  0.125816  0.067484   5.971604  0.003921           9   baseline         low   \n",
       "2  0.069888  0.038281  10.945519  0.003154           4  amusement      medium   \n",
       "3  0.094345  0.074014   2.435759  0.009692           8     stress         low   \n",
       "4  0.076385  0.063323   3.259253  0.014438           4     stress      medium   \n",
       "\n",
       "   SSSQ Label  condition label  \n",
       "0           1                0  \n",
       "1           0                0  \n",
       "2           1                1  \n",
       "3           0                2  \n",
       "4           1                2  \n",
       "\n",
       "[5 rows x 67 columns]"
      ]
     },
     "execution_count": 5,
     "metadata": {},
     "output_type": "execute_result"
    }
   ],
   "source": [
    "data.head(5)"
   ]
  },
  {
   "cell_type": "code",
   "execution_count": 6,
   "metadata": {},
   "outputs": [
    {
     "data": {
      "text/html": [
       "<div>\n",
       "<style scoped>\n",
       "    .dataframe tbody tr th:only-of-type {\n",
       "        vertical-align: middle;\n",
       "    }\n",
       "\n",
       "    .dataframe tbody tr th {\n",
       "        vertical-align: top;\n",
       "    }\n",
       "\n",
       "    .dataframe thead th {\n",
       "        text-align: right;\n",
       "    }\n",
       "</style>\n",
       "<table border=\"1\" class=\"dataframe\">\n",
       "  <thead>\n",
       "    <tr style=\"text-align: right;\">\n",
       "      <th></th>\n",
       "      <th>MEAN_RR</th>\n",
       "      <th>MEDIAN_RR</th>\n",
       "      <th>SDRR</th>\n",
       "      <th>RMSSD</th>\n",
       "      <th>SDSD</th>\n",
       "      <th>SDRR_RMSSD</th>\n",
       "      <th>HR</th>\n",
       "      <th>pNN25</th>\n",
       "      <th>pNN50</th>\n",
       "      <th>SD1</th>\n",
       "      <th>...</th>\n",
       "      <th>KURT_SQUARE</th>\n",
       "      <th>HR_SQRT</th>\n",
       "      <th>MEAN_RR_MEAN_MEAN_REL_RR</th>\n",
       "      <th>SD2_LF</th>\n",
       "      <th>HR_LF</th>\n",
       "      <th>HR_HF</th>\n",
       "      <th>HF_VLF</th>\n",
       "      <th>subject id</th>\n",
       "      <th>SSSQ Label</th>\n",
       "      <th>condition label</th>\n",
       "    </tr>\n",
       "  </thead>\n",
       "  <tbody>\n",
       "    <tr>\n",
       "      <th>count</th>\n",
       "      <td>13565.000000</td>\n",
       "      <td>13565.000000</td>\n",
       "      <td>13565.000000</td>\n",
       "      <td>13565.000000</td>\n",
       "      <td>13565.000000</td>\n",
       "      <td>13565.000000</td>\n",
       "      <td>13565.000000</td>\n",
       "      <td>13565.000000</td>\n",
       "      <td>13565.000000</td>\n",
       "      <td>13565.000000</td>\n",
       "      <td>...</td>\n",
       "      <td>1.356500e+04</td>\n",
       "      <td>13565.000000</td>\n",
       "      <td>1.356500e+04</td>\n",
       "      <td>13565.000000</td>\n",
       "      <td>13565.000000</td>\n",
       "      <td>13565.000000</td>\n",
       "      <td>13565.000000</td>\n",
       "      <td>13565.000000</td>\n",
       "      <td>13565.000000</td>\n",
       "      <td>13565.000000</td>\n",
       "    </tr>\n",
       "    <tr>\n",
       "      <th>mean</th>\n",
       "      <td>786.718143</td>\n",
       "      <td>784.966582</td>\n",
       "      <td>71.124869</td>\n",
       "      <td>14.352597</td>\n",
       "      <td>14.349317</td>\n",
       "      <td>5.232165</td>\n",
       "      <td>80.362350</td>\n",
       "      <td>10.326852</td>\n",
       "      <td>1.008809</td>\n",
       "      <td>10.159238</td>\n",
       "      <td>...</td>\n",
       "      <td>1.329781e+00</td>\n",
       "      <td>8.913462</td>\n",
       "      <td>-2.348058e+06</td>\n",
       "      <td>0.166309</td>\n",
       "      <td>0.212377</td>\n",
       "      <td>8.157914</td>\n",
       "      <td>0.042486</td>\n",
       "      <td>9.440988</td>\n",
       "      <td>0.872392</td>\n",
       "      <td>0.771250</td>\n",
       "    </tr>\n",
       "    <tr>\n",
       "      <th>std</th>\n",
       "      <td>155.478526</td>\n",
       "      <td>159.571871</td>\n",
       "      <td>32.606737</td>\n",
       "      <td>6.069543</td>\n",
       "      <td>6.069041</td>\n",
       "      <td>1.771557</td>\n",
       "      <td>17.881308</td>\n",
       "      <td>10.732644</td>\n",
       "      <td>1.819669</td>\n",
       "      <td>4.296848</td>\n",
       "      <td>...</td>\n",
       "      <td>5.163260e+00</td>\n",
       "      <td>0.955308</td>\n",
       "      <td>2.711478e+08</td>\n",
       "      <td>0.213175</td>\n",
       "      <td>0.496134</td>\n",
       "      <td>13.719796</td>\n",
       "      <td>0.084921</td>\n",
       "      <td>4.709694</td>\n",
       "      <td>0.777907</td>\n",
       "      <td>0.884564</td>\n",
       "    </tr>\n",
       "    <tr>\n",
       "      <th>min</th>\n",
       "      <td>411.078362</td>\n",
       "      <td>411.966595</td>\n",
       "      <td>13.786706</td>\n",
       "      <td>2.297290</td>\n",
       "      <td>2.293909</td>\n",
       "      <td>1.894529</td>\n",
       "      <td>48.227524</td>\n",
       "      <td>0.000000</td>\n",
       "      <td>0.000000</td>\n",
       "      <td>1.624075</td>\n",
       "      <td>...</td>\n",
       "      <td>5.422143e-08</td>\n",
       "      <td>6.944604</td>\n",
       "      <td>-1.399723e+10</td>\n",
       "      <td>0.021551</td>\n",
       "      <td>0.008299</td>\n",
       "      <td>0.301723</td>\n",
       "      <td>0.000013</td>\n",
       "      <td>2.000000</td>\n",
       "      <td>0.000000</td>\n",
       "      <td>0.000000</td>\n",
       "    </tr>\n",
       "    <tr>\n",
       "      <th>25%</th>\n",
       "      <td>694.610230</td>\n",
       "      <td>687.696190</td>\n",
       "      <td>51.733591</td>\n",
       "      <td>9.552529</td>\n",
       "      <td>9.551541</td>\n",
       "      <td>4.023288</td>\n",
       "      <td>68.483436</td>\n",
       "      <td>2.000000</td>\n",
       "      <td>0.000000</td>\n",
       "      <td>6.762439</td>\n",
       "      <td>...</td>\n",
       "      <td>6.183810e-02</td>\n",
       "      <td>8.275472</td>\n",
       "      <td>-3.615142e+06</td>\n",
       "      <td>0.074520</td>\n",
       "      <td>0.048675</td>\n",
       "      <td>2.194448</td>\n",
       "      <td>0.005573</td>\n",
       "      <td>5.000000</td>\n",
       "      <td>0.000000</td>\n",
       "      <td>0.000000</td>\n",
       "    </tr>\n",
       "    <tr>\n",
       "      <th>50%</th>\n",
       "      <td>795.342707</td>\n",
       "      <td>795.362000</td>\n",
       "      <td>65.212994</td>\n",
       "      <td>13.627897</td>\n",
       "      <td>13.627897</td>\n",
       "      <td>5.024565</td>\n",
       "      <td>76.217835</td>\n",
       "      <td>6.500000</td>\n",
       "      <td>0.000000</td>\n",
       "      <td>9.648477</td>\n",
       "      <td>...</td>\n",
       "      <td>2.508121e-01</td>\n",
       "      <td>8.730283</td>\n",
       "      <td>-9.468871e+05</td>\n",
       "      <td>0.111409</td>\n",
       "      <td>0.092495</td>\n",
       "      <td>4.113742</td>\n",
       "      <td>0.014662</td>\n",
       "      <td>9.000000</td>\n",
       "      <td>1.000000</td>\n",
       "      <td>0.000000</td>\n",
       "    </tr>\n",
       "    <tr>\n",
       "      <th>75%</th>\n",
       "      <td>885.026973</td>\n",
       "      <td>890.737085</td>\n",
       "      <td>86.433890</td>\n",
       "      <td>18.072109</td>\n",
       "      <td>18.069190</td>\n",
       "      <td>5.979176</td>\n",
       "      <td>87.086988</td>\n",
       "      <td>15.250000</td>\n",
       "      <td>1.250000</td>\n",
       "      <td>12.792888</td>\n",
       "      <td>...</td>\n",
       "      <td>7.103988e-01</td>\n",
       "      <td>9.332041</td>\n",
       "      <td>3.244919e+06</td>\n",
       "      <td>0.183800</td>\n",
       "      <td>0.204744</td>\n",
       "      <td>8.455479</td>\n",
       "      <td>0.043702</td>\n",
       "      <td>14.000000</td>\n",
       "      <td>1.000000</td>\n",
       "      <td>2.000000</td>\n",
       "    </tr>\n",
       "    <tr>\n",
       "      <th>max</th>\n",
       "      <td>1341.032784</td>\n",
       "      <td>1181.686350</td>\n",
       "      <td>417.129749</td>\n",
       "      <td>34.854644</td>\n",
       "      <td>34.853794</td>\n",
       "      <td>22.172828</td>\n",
       "      <td>146.188120</td>\n",
       "      <td>46.750000</td>\n",
       "      <td>11.500000</td>\n",
       "      <td>24.676296</td>\n",
       "      <td>...</td>\n",
       "      <td>2.408444e+02</td>\n",
       "      <td>12.090828</td>\n",
       "      <td>1.385782e+10</td>\n",
       "      <td>4.771071</td>\n",
       "      <td>9.698384</td>\n",
       "      <td>383.380460</td>\n",
       "      <td>1.126750</td>\n",
       "      <td>17.000000</td>\n",
       "      <td>2.000000</td>\n",
       "      <td>2.000000</td>\n",
       "    </tr>\n",
       "  </tbody>\n",
       "</table>\n",
       "<p>8 rows × 65 columns</p>\n",
       "</div>"
      ],
      "text/plain": [
       "            MEAN_RR     MEDIAN_RR          SDRR         RMSSD          SDSD  \\\n",
       "count  13565.000000  13565.000000  13565.000000  13565.000000  13565.000000   \n",
       "mean     786.718143    784.966582     71.124869     14.352597     14.349317   \n",
       "std      155.478526    159.571871     32.606737      6.069543      6.069041   \n",
       "min      411.078362    411.966595     13.786706      2.297290      2.293909   \n",
       "25%      694.610230    687.696190     51.733591      9.552529      9.551541   \n",
       "50%      795.342707    795.362000     65.212994     13.627897     13.627897   \n",
       "75%      885.026973    890.737085     86.433890     18.072109     18.069190   \n",
       "max     1341.032784   1181.686350    417.129749     34.854644     34.853794   \n",
       "\n",
       "         SDRR_RMSSD            HR         pNN25         pNN50           SD1  \\\n",
       "count  13565.000000  13565.000000  13565.000000  13565.000000  13565.000000   \n",
       "mean       5.232165     80.362350     10.326852      1.008809     10.159238   \n",
       "std        1.771557     17.881308     10.732644      1.819669      4.296848   \n",
       "min        1.894529     48.227524      0.000000      0.000000      1.624075   \n",
       "25%        4.023288     68.483436      2.000000      0.000000      6.762439   \n",
       "50%        5.024565     76.217835      6.500000      0.000000      9.648477   \n",
       "75%        5.979176     87.086988     15.250000      1.250000     12.792888   \n",
       "max       22.172828    146.188120     46.750000     11.500000     24.676296   \n",
       "\n",
       "       ...   KURT_SQUARE       HR_SQRT  MEAN_RR_MEAN_MEAN_REL_RR  \\\n",
       "count  ...  1.356500e+04  13565.000000              1.356500e+04   \n",
       "mean   ...  1.329781e+00      8.913462             -2.348058e+06   \n",
       "std    ...  5.163260e+00      0.955308              2.711478e+08   \n",
       "min    ...  5.422143e-08      6.944604             -1.399723e+10   \n",
       "25%    ...  6.183810e-02      8.275472             -3.615142e+06   \n",
       "50%    ...  2.508121e-01      8.730283             -9.468871e+05   \n",
       "75%    ...  7.103988e-01      9.332041              3.244919e+06   \n",
       "max    ...  2.408444e+02     12.090828              1.385782e+10   \n",
       "\n",
       "             SD2_LF         HR_LF         HR_HF        HF_VLF    subject id  \\\n",
       "count  13565.000000  13565.000000  13565.000000  13565.000000  13565.000000   \n",
       "mean       0.166309      0.212377      8.157914      0.042486      9.440988   \n",
       "std        0.213175      0.496134     13.719796      0.084921      4.709694   \n",
       "min        0.021551      0.008299      0.301723      0.000013      2.000000   \n",
       "25%        0.074520      0.048675      2.194448      0.005573      5.000000   \n",
       "50%        0.111409      0.092495      4.113742      0.014662      9.000000   \n",
       "75%        0.183800      0.204744      8.455479      0.043702     14.000000   \n",
       "max        4.771071      9.698384    383.380460      1.126750     17.000000   \n",
       "\n",
       "         SSSQ Label  condition label  \n",
       "count  13565.000000     13565.000000  \n",
       "mean       0.872392         0.771250  \n",
       "std        0.777907         0.884564  \n",
       "min        0.000000         0.000000  \n",
       "25%        0.000000         0.000000  \n",
       "50%        1.000000         0.000000  \n",
       "75%        1.000000         2.000000  \n",
       "max        2.000000         2.000000  \n",
       "\n",
       "[8 rows x 65 columns]"
      ]
     },
     "execution_count": 6,
     "metadata": {},
     "output_type": "execute_result"
    }
   ],
   "source": [
    "test.describe()"
   ]
  },
  {
   "cell_type": "code",
   "execution_count": 7,
   "metadata": {},
   "outputs": [
    {
     "data": {
      "text/html": [
       "<div>\n",
       "<style scoped>\n",
       "    .dataframe tbody tr th:only-of-type {\n",
       "        vertical-align: middle;\n",
       "    }\n",
       "\n",
       "    .dataframe tbody tr th {\n",
       "        vertical-align: top;\n",
       "    }\n",
       "\n",
       "    .dataframe thead th {\n",
       "        text-align: right;\n",
       "    }\n",
       "</style>\n",
       "<table border=\"1\" class=\"dataframe\">\n",
       "  <thead>\n",
       "    <tr style=\"text-align: right;\">\n",
       "      <th></th>\n",
       "      <th>MEAN_RR</th>\n",
       "      <th>MEDIAN_RR</th>\n",
       "      <th>SDRR</th>\n",
       "      <th>RMSSD</th>\n",
       "      <th>SDSD</th>\n",
       "      <th>SDRR_RMSSD</th>\n",
       "      <th>HR</th>\n",
       "      <th>pNN25</th>\n",
       "      <th>pNN50</th>\n",
       "      <th>SD1</th>\n",
       "      <th>...</th>\n",
       "      <th>KURT_SQUARE</th>\n",
       "      <th>HR_SQRT</th>\n",
       "      <th>MEAN_RR_MEAN_MEAN_REL_RR</th>\n",
       "      <th>SD2_LF</th>\n",
       "      <th>HR_LF</th>\n",
       "      <th>HR_HF</th>\n",
       "      <th>HF_VLF</th>\n",
       "      <th>subject id</th>\n",
       "      <th>SSSQ Label</th>\n",
       "      <th>condition label</th>\n",
       "    </tr>\n",
       "  </thead>\n",
       "  <tbody>\n",
       "    <tr>\n",
       "      <th>count</th>\n",
       "      <td>135650.000000</td>\n",
       "      <td>135650.000000</td>\n",
       "      <td>135650.000000</td>\n",
       "      <td>135650.000000</td>\n",
       "      <td>135650.000000</td>\n",
       "      <td>135650.000000</td>\n",
       "      <td>135650.000000</td>\n",
       "      <td>135650.000000</td>\n",
       "      <td>135650.000000</td>\n",
       "      <td>135650.000000</td>\n",
       "      <td>...</td>\n",
       "      <td>1.356500e+05</td>\n",
       "      <td>135650.000000</td>\n",
       "      <td>1.356500e+05</td>\n",
       "      <td>135650.000000</td>\n",
       "      <td>135650.000000</td>\n",
       "      <td>135650.000000</td>\n",
       "      <td>135650.000000</td>\n",
       "      <td>135650.000000</td>\n",
       "      <td>135650.000000</td>\n",
       "      <td>135650.000000</td>\n",
       "    </tr>\n",
       "    <tr>\n",
       "      <th>mean</th>\n",
       "      <td>788.515184</td>\n",
       "      <td>786.845673</td>\n",
       "      <td>71.453748</td>\n",
       "      <td>14.379418</td>\n",
       "      <td>14.376136</td>\n",
       "      <td>5.247878</td>\n",
       "      <td>80.203812</td>\n",
       "      <td>10.396622</td>\n",
       "      <td>1.026915</td>\n",
       "      <td>10.178226</td>\n",
       "      <td>...</td>\n",
       "      <td>1.357090e+00</td>\n",
       "      <td>8.904329</td>\n",
       "      <td>-1.761317e+06</td>\n",
       "      <td>0.166589</td>\n",
       "      <td>0.210475</td>\n",
       "      <td>8.309048</td>\n",
       "      <td>0.041303</td>\n",
       "      <td>9.398349</td>\n",
       "      <td>0.875245</td>\n",
       "      <td>0.773727</td>\n",
       "    </tr>\n",
       "    <tr>\n",
       "      <th>std</th>\n",
       "      <td>156.334847</td>\n",
       "      <td>160.113990</td>\n",
       "      <td>33.646350</td>\n",
       "      <td>6.134973</td>\n",
       "      <td>6.134411</td>\n",
       "      <td>1.792526</td>\n",
       "      <td>17.913204</td>\n",
       "      <td>10.857041</td>\n",
       "      <td>1.865541</td>\n",
       "      <td>4.343130</td>\n",
       "      <td>...</td>\n",
       "      <td>5.323943e+00</td>\n",
       "      <td>0.957470</td>\n",
       "      <td>1.070482e+09</td>\n",
       "      <td>0.207166</td>\n",
       "      <td>0.469279</td>\n",
       "      <td>14.892431</td>\n",
       "      <td>0.081219</td>\n",
       "      <td>4.709621</td>\n",
       "      <td>0.780052</td>\n",
       "      <td>0.882485</td>\n",
       "    </tr>\n",
       "    <tr>\n",
       "      <th>min</th>\n",
       "      <td>411.068840</td>\n",
       "      <td>411.966595</td>\n",
       "      <td>13.786706</td>\n",
       "      <td>2.294390</td>\n",
       "      <td>2.292144</td>\n",
       "      <td>1.887603</td>\n",
       "      <td>48.183943</td>\n",
       "      <td>0.000000</td>\n",
       "      <td>0.000000</td>\n",
       "      <td>1.622825</td>\n",
       "      <td>...</td>\n",
       "      <td>3.871992e-10</td>\n",
       "      <td>6.941465</td>\n",
       "      <td>-3.426834e+11</td>\n",
       "      <td>0.021295</td>\n",
       "      <td>0.008200</td>\n",
       "      <td>0.294702</td>\n",
       "      <td>0.000009</td>\n",
       "      <td>2.000000</td>\n",
       "      <td>0.000000</td>\n",
       "      <td>0.000000</td>\n",
       "    </tr>\n",
       "    <tr>\n",
       "      <th>25%</th>\n",
       "      <td>695.450860</td>\n",
       "      <td>689.389645</td>\n",
       "      <td>51.839395</td>\n",
       "      <td>9.579017</td>\n",
       "      <td>9.576334</td>\n",
       "      <td>4.025865</td>\n",
       "      <td>68.227916</td>\n",
       "      <td>2.000000</td>\n",
       "      <td>0.000000</td>\n",
       "      <td>6.779992</td>\n",
       "      <td>...</td>\n",
       "      <td>6.322669e-02</td>\n",
       "      <td>8.260019</td>\n",
       "      <td>-3.607337e+06</td>\n",
       "      <td>0.073939</td>\n",
       "      <td>0.048338</td>\n",
       "      <td>2.251744</td>\n",
       "      <td>0.005567</td>\n",
       "      <td>5.000000</td>\n",
       "      <td>0.000000</td>\n",
       "      <td>0.000000</td>\n",
       "    </tr>\n",
       "    <tr>\n",
       "      <th>50%</th>\n",
       "      <td>798.200622</td>\n",
       "      <td>797.564400</td>\n",
       "      <td>65.238376</td>\n",
       "      <td>13.578235</td>\n",
       "      <td>13.576345</td>\n",
       "      <td>5.028439</td>\n",
       "      <td>75.988575</td>\n",
       "      <td>6.500000</td>\n",
       "      <td>0.000000</td>\n",
       "      <td>9.611978</td>\n",
       "      <td>...</td>\n",
       "      <td>2.536286e-01</td>\n",
       "      <td>8.717143</td>\n",
       "      <td>-9.391674e+05</td>\n",
       "      <td>0.111455</td>\n",
       "      <td>0.092320</td>\n",
       "      <td>4.213662</td>\n",
       "      <td>0.014356</td>\n",
       "      <td>9.000000</td>\n",
       "      <td>1.000000</td>\n",
       "      <td>0.000000</td>\n",
       "    </tr>\n",
       "    <tr>\n",
       "      <th>75%</th>\n",
       "      <td>888.053029</td>\n",
       "      <td>892.774831</td>\n",
       "      <td>86.848219</td>\n",
       "      <td>18.170919</td>\n",
       "      <td>18.165098</td>\n",
       "      <td>6.001586</td>\n",
       "      <td>86.975168</td>\n",
       "      <td>15.500000</td>\n",
       "      <td>1.250000</td>\n",
       "      <td>12.860790</td>\n",
       "      <td>...</td>\n",
       "      <td>7.131422e-01</td>\n",
       "      <td>9.326048</td>\n",
       "      <td>3.286467e+06</td>\n",
       "      <td>0.184950</td>\n",
       "      <td>0.203164</td>\n",
       "      <td>8.530982</td>\n",
       "      <td>0.042999</td>\n",
       "      <td>14.000000</td>\n",
       "      <td>1.000000</td>\n",
       "      <td>2.000000</td>\n",
       "    </tr>\n",
       "    <tr>\n",
       "      <th>max</th>\n",
       "      <td>1341.611513</td>\n",
       "      <td>1181.686350</td>\n",
       "      <td>418.066612</td>\n",
       "      <td>34.881131</td>\n",
       "      <td>34.880732</td>\n",
       "      <td>22.194700</td>\n",
       "      <td>146.191044</td>\n",
       "      <td>46.750000</td>\n",
       "      <td>11.500000</td>\n",
       "      <td>24.695368</td>\n",
       "      <td>...</td>\n",
       "      <td>2.459810e+02</td>\n",
       "      <td>12.090949</td>\n",
       "      <td>1.092115e+11</td>\n",
       "      <td>4.771071</td>\n",
       "      <td>9.714187</td>\n",
       "      <td>537.538316</td>\n",
       "      <td>1.129262</td>\n",
       "      <td>17.000000</td>\n",
       "      <td>2.000000</td>\n",
       "      <td>2.000000</td>\n",
       "    </tr>\n",
       "  </tbody>\n",
       "</table>\n",
       "<p>8 rows × 65 columns</p>\n",
       "</div>"
      ],
      "text/plain": [
       "             MEAN_RR      MEDIAN_RR           SDRR          RMSSD  \\\n",
       "count  135650.000000  135650.000000  135650.000000  135650.000000   \n",
       "mean      788.515184     786.845673      71.453748      14.379418   \n",
       "std       156.334847     160.113990      33.646350       6.134973   \n",
       "min       411.068840     411.966595      13.786706       2.294390   \n",
       "25%       695.450860     689.389645      51.839395       9.579017   \n",
       "50%       798.200622     797.564400      65.238376      13.578235   \n",
       "75%       888.053029     892.774831      86.848219      18.170919   \n",
       "max      1341.611513    1181.686350     418.066612      34.881131   \n",
       "\n",
       "                SDSD     SDRR_RMSSD             HR          pNN25  \\\n",
       "count  135650.000000  135650.000000  135650.000000  135650.000000   \n",
       "mean       14.376136       5.247878      80.203812      10.396622   \n",
       "std         6.134411       1.792526      17.913204      10.857041   \n",
       "min         2.292144       1.887603      48.183943       0.000000   \n",
       "25%         9.576334       4.025865      68.227916       2.000000   \n",
       "50%        13.576345       5.028439      75.988575       6.500000   \n",
       "75%        18.165098       6.001586      86.975168      15.500000   \n",
       "max        34.880732      22.194700     146.191044      46.750000   \n",
       "\n",
       "               pNN50            SD1  ...   KURT_SQUARE        HR_SQRT  \\\n",
       "count  135650.000000  135650.000000  ...  1.356500e+05  135650.000000   \n",
       "mean        1.026915      10.178226  ...  1.357090e+00       8.904329   \n",
       "std         1.865541       4.343130  ...  5.323943e+00       0.957470   \n",
       "min         0.000000       1.622825  ...  3.871992e-10       6.941465   \n",
       "25%         0.000000       6.779992  ...  6.322669e-02       8.260019   \n",
       "50%         0.000000       9.611978  ...  2.536286e-01       8.717143   \n",
       "75%         1.250000      12.860790  ...  7.131422e-01       9.326048   \n",
       "max        11.500000      24.695368  ...  2.459810e+02      12.090949   \n",
       "\n",
       "       MEAN_RR_MEAN_MEAN_REL_RR         SD2_LF          HR_LF          HR_HF  \\\n",
       "count              1.356500e+05  135650.000000  135650.000000  135650.000000   \n",
       "mean              -1.761317e+06       0.166589       0.210475       8.309048   \n",
       "std                1.070482e+09       0.207166       0.469279      14.892431   \n",
       "min               -3.426834e+11       0.021295       0.008200       0.294702   \n",
       "25%               -3.607337e+06       0.073939       0.048338       2.251744   \n",
       "50%               -9.391674e+05       0.111455       0.092320       4.213662   \n",
       "75%                3.286467e+06       0.184950       0.203164       8.530982   \n",
       "max                1.092115e+11       4.771071       9.714187     537.538316   \n",
       "\n",
       "              HF_VLF     subject id     SSSQ Label  condition label  \n",
       "count  135650.000000  135650.000000  135650.000000    135650.000000  \n",
       "mean        0.041303       9.398349       0.875245         0.773727  \n",
       "std         0.081219       4.709621       0.780052         0.882485  \n",
       "min         0.000009       2.000000       0.000000         0.000000  \n",
       "25%         0.005567       5.000000       0.000000         0.000000  \n",
       "50%         0.014356       9.000000       1.000000         0.000000  \n",
       "75%         0.042999      14.000000       1.000000         2.000000  \n",
       "max         1.129262      17.000000       2.000000         2.000000  \n",
       "\n",
       "[8 rows x 65 columns]"
      ]
     },
     "execution_count": 7,
     "metadata": {},
     "output_type": "execute_result"
    }
   ],
   "source": [
    "data.describe()"
   ]
  },
  {
   "cell_type": "markdown",
   "metadata": {},
   "source": [
    "dividing data into X and Y variables"
   ]
  },
  {
   "cell_type": "code",
   "execution_count": 8,
   "metadata": {},
   "outputs": [],
   "source": [
    "X=test.drop(['condition','SSSQ class','SSSQ Label','condition label','subject id'],axis='columns')\n",
    "Y=[\"condition\"]\n",
    "Y=test[Y]"
   ]
  },
  {
   "cell_type": "code",
   "execution_count": 9,
   "metadata": {},
   "outputs": [],
   "source": [
    "x=data.drop(['condition','SSSQ class','SSSQ Label','condition label','subject id'],axis='columns')\n",
    "y=[\"condition\"]\n",
    "y=data[y]"
   ]
  },
  {
   "cell_type": "markdown",
   "metadata": {},
   "source": [
    "Applyiing MinMaxScaler to normalaise the data"
   ]
  },
  {
   "cell_type": "code",
   "execution_count": 10,
   "metadata": {},
   "outputs": [],
   "source": [
    "scaler = MinMaxScaler()\n",
    "x = scaler.fit_transform(x)\n",
    "X= scaler.fit_transform(X,Y)"
   ]
  },
  {
   "cell_type": "markdown",
   "metadata": {},
   "source": [
    "converting qualitative data into qualtitaive data"
   ]
  },
  {
   "cell_type": "code",
   "execution_count": 11,
   "metadata": {},
   "outputs": [
    {
     "name": "stderr",
     "output_type": "stream",
     "text": [
      "c:\\Users\\anura\\anaconda3\\Lib\\site-packages\\sklearn\\preprocessing\\_label.py:114: DataConversionWarning: A column-vector y was passed when a 1d array was expected. Please change the shape of y to (n_samples, ), for example using ravel().\n",
      "  y = column_or_1d(y, warn=True)\n",
      "c:\\Users\\anura\\anaconda3\\Lib\\site-packages\\sklearn\\preprocessing\\_label.py:114: DataConversionWarning: A column-vector y was passed when a 1d array was expected. Please change the shape of y to (n_samples, ), for example using ravel().\n",
      "  y = column_or_1d(y, warn=True)\n"
     ]
    }
   ],
   "source": [
    "\n",
    "la=LabelEncoder()\n",
    "y=la.fit_transform(y)\n",
    "Y=la.fit_transform(Y)"
   ]
  },
  {
   "cell_type": "markdown",
   "metadata": {},
   "source": [
    "Feature selection using PCA and decompostion\n"
   ]
  },
  {
   "cell_type": "code",
   "execution_count": 12,
   "metadata": {},
   "outputs": [
    {
     "name": "stderr",
     "output_type": "stream",
     "text": [
      "[Parallel(n_jobs=-1)]: Using backend LokyBackend with 16 concurrent workers.\n",
      "[Parallel(n_jobs=-1)]: Done   9 tasks      | elapsed:    4.0s\n",
      "[Parallel(n_jobs=-1)]: Done  62 out of  62 | elapsed:    8.4s finished\n",
      "\n",
      "[2023-10-15 20:05:38] Features: 1/20 -- score: 0.9985772207887947[Parallel(n_jobs=-1)]: Using backend LokyBackend with 16 concurrent workers.\n",
      "[Parallel(n_jobs=-1)]: Done   9 tasks      | elapsed:    1.1s\n",
      "[Parallel(n_jobs=-1)]: Done  61 out of  61 | elapsed:    4.9s remaining:    0.0s\n",
      "[Parallel(n_jobs=-1)]: Done  61 out of  61 | elapsed:    4.9s finished\n",
      "\n",
      "[2023-10-15 20:05:43] Features: 2/20 -- score: 1.0[Parallel(n_jobs=-1)]: Using backend LokyBackend with 16 concurrent workers.\n",
      "[Parallel(n_jobs=-1)]: Done   9 tasks      | elapsed:    1.6s\n",
      "[Parallel(n_jobs=-1)]: Done  60 out of  60 | elapsed:    6.4s remaining:    0.0s\n",
      "[Parallel(n_jobs=-1)]: Done  60 out of  60 | elapsed:    6.4s finished\n",
      "\n",
      "[2023-10-15 20:05:50] Features: 3/20 -- score: 1.0[Parallel(n_jobs=-1)]: Using backend LokyBackend with 16 concurrent workers.\n",
      "[Parallel(n_jobs=-1)]: Done   9 tasks      | elapsed:    2.0s\n",
      "[Parallel(n_jobs=-1)]: Done  59 out of  59 | elapsed:    7.7s finished\n",
      "\n",
      "[2023-10-15 20:05:58] Features: 4/20 -- score: 1.0[Parallel(n_jobs=-1)]: Using backend LokyBackend with 16 concurrent workers.\n",
      "[Parallel(n_jobs=-1)]: Done   9 tasks      | elapsed:    2.5s\n",
      "[Parallel(n_jobs=-1)]: Done  58 out of  58 | elapsed:    9.2s finished\n",
      "\n",
      "[2023-10-15 20:06:08] Features: 5/20 -- score: 1.0[Parallel(n_jobs=-1)]: Using backend LokyBackend with 16 concurrent workers.\n",
      "[Parallel(n_jobs=-1)]: Done   9 tasks      | elapsed:    3.0s\n",
      "[Parallel(n_jobs=-1)]: Done  55 out of  57 | elapsed:   10.9s remaining:    0.3s\n",
      "[Parallel(n_jobs=-1)]: Done  57 out of  57 | elapsed:   10.9s finished\n",
      "\n",
      "[2023-10-15 20:06:19] Features: 6/20 -- score: 1.0[Parallel(n_jobs=-1)]: Using backend LokyBackend with 16 concurrent workers.\n",
      "[Parallel(n_jobs=-1)]: Done   9 tasks      | elapsed:    3.5s\n",
      "[Parallel(n_jobs=-1)]: Done  54 out of  56 | elapsed:   12.4s remaining:    0.4s\n",
      "[Parallel(n_jobs=-1)]: Done  56 out of  56 | elapsed:   12.6s finished\n",
      "\n",
      "[2023-10-15 20:06:32] Features: 7/20 -- score: 1.0[Parallel(n_jobs=-1)]: Using backend LokyBackend with 16 concurrent workers.\n",
      "[Parallel(n_jobs=-1)]: Done   9 tasks      | elapsed:    4.0s\n",
      "[Parallel(n_jobs=-1)]: Done  52 out of  55 | elapsed:   14.0s remaining:    0.7s\n",
      "[Parallel(n_jobs=-1)]: Done  55 out of  55 | elapsed:   14.2s finished\n",
      "\n",
      "[2023-10-15 20:06:46] Features: 8/20 -- score: 1.0[Parallel(n_jobs=-1)]: Using backend LokyBackend with 16 concurrent workers.\n",
      "[Parallel(n_jobs=-1)]: Done   9 tasks      | elapsed:    4.0s\n",
      "[Parallel(n_jobs=-1)]: Done  51 out of  54 | elapsed:   14.2s remaining:    0.7s\n",
      "[Parallel(n_jobs=-1)]: Done  54 out of  54 | elapsed:   14.3s finished\n",
      "\n",
      "[2023-10-15 20:07:01] Features: 9/20 -- score: 1.0[Parallel(n_jobs=-1)]: Using backend LokyBackend with 16 concurrent workers.\n",
      "[Parallel(n_jobs=-1)]: Done   9 tasks      | elapsed:    4.1s\n",
      "[Parallel(n_jobs=-1)]: Done  49 out of  53 | elapsed:   14.1s remaining:    1.1s\n",
      "[Parallel(n_jobs=-1)]: Done  53 out of  53 | elapsed:   14.4s finished\n",
      "\n",
      "[2023-10-15 20:07:16] Features: 10/20 -- score: 1.0[Parallel(n_jobs=-1)]: Using backend LokyBackend with 16 concurrent workers.\n",
      "[Parallel(n_jobs=-1)]: Done   9 tasks      | elapsed:    4.7s\n",
      "[Parallel(n_jobs=-1)]: Done  48 out of  52 | elapsed:   14.0s remaining:    1.1s\n",
      "[Parallel(n_jobs=-1)]: Done  52 out of  52 | elapsed:   16.0s finished\n",
      "\n",
      "[2023-10-15 20:07:32] Features: 11/20 -- score: 1.0[Parallel(n_jobs=-1)]: Using backend LokyBackend with 16 concurrent workers.\n",
      "[Parallel(n_jobs=-1)]: Done   9 tasks      | elapsed:    5.4s\n",
      "[Parallel(n_jobs=-1)]: Done  46 out of  51 | elapsed:   16.2s remaining:    1.7s\n",
      "[Parallel(n_jobs=-1)]: Done  51 out of  51 | elapsed:   18.3s finished\n",
      "\n",
      "[2023-10-15 20:07:51] Features: 12/20 -- score: 1.0[Parallel(n_jobs=-1)]: Using backend LokyBackend with 16 concurrent workers.\n",
      "[Parallel(n_jobs=-1)]: Done   9 tasks      | elapsed:    5.9s\n",
      "[Parallel(n_jobs=-1)]: Done  45 out of  50 | elapsed:   17.9s remaining:    1.9s\n",
      "[Parallel(n_jobs=-1)]: Done  50 out of  50 | elapsed:   20.3s finished\n",
      "\n",
      "[2023-10-15 20:08:11] Features: 13/20 -- score: 1.0[Parallel(n_jobs=-1)]: Using backend LokyBackend with 16 concurrent workers.\n",
      "[Parallel(n_jobs=-1)]: Done   9 tasks      | elapsed:    7.3s\n",
      "[Parallel(n_jobs=-1)]: Done  43 out of  49 | elapsed:   20.2s remaining:    2.7s\n",
      "[Parallel(n_jobs=-1)]: Done  49 out of  49 | elapsed:   22.6s finished\n",
      "\n",
      "[2023-10-15 20:08:34] Features: 14/20 -- score: 1.0[Parallel(n_jobs=-1)]: Using backend LokyBackend with 16 concurrent workers.\n",
      "[Parallel(n_jobs=-1)]: Done   9 tasks      | elapsed:    6.8s\n",
      "[Parallel(n_jobs=-1)]: Done  42 out of  48 | elapsed:   20.5s remaining:    2.8s\n",
      "[Parallel(n_jobs=-1)]: Done  48 out of  48 | elapsed:   20.8s finished\n",
      "\n",
      "[2023-10-15 20:08:55] Features: 15/20 -- score: 1.0[Parallel(n_jobs=-1)]: Using backend LokyBackend with 16 concurrent workers.\n",
      "[Parallel(n_jobs=-1)]: Done   9 tasks      | elapsed:    7.1s\n",
      "[Parallel(n_jobs=-1)]: Done  40 out of  47 | elapsed:   20.6s remaining:    3.5s\n",
      "[Parallel(n_jobs=-1)]: Done  47 out of  47 | elapsed:   21.0s finished\n",
      "\n",
      "[2023-10-15 20:09:17] Features: 16/20 -- score: 1.0[Parallel(n_jobs=-1)]: Using backend LokyBackend with 16 concurrent workers.\n",
      "[Parallel(n_jobs=-1)]: Done   9 tasks      | elapsed:    7.4s\n",
      "[Parallel(n_jobs=-1)]: Done  39 out of  46 | elapsed:   20.9s remaining:    3.7s\n",
      "[Parallel(n_jobs=-1)]: Done  46 out of  46 | elapsed:   21.6s finished\n",
      "\n",
      "[2023-10-15 20:09:39] Features: 17/20 -- score: 1.0[Parallel(n_jobs=-1)]: Using backend LokyBackend with 16 concurrent workers.\n",
      "[Parallel(n_jobs=-1)]: Done   9 tasks      | elapsed:    7.9s\n",
      "[Parallel(n_jobs=-1)]: Done  37 out of  45 | elapsed:   22.0s remaining:    4.7s\n",
      "[Parallel(n_jobs=-1)]: Done  45 out of  45 | elapsed:   22.6s finished\n",
      "\n",
      "[2023-10-15 20:10:02] Features: 18/20 -- score: 1.0[Parallel(n_jobs=-1)]: Using backend LokyBackend with 16 concurrent workers.\n",
      "[Parallel(n_jobs=-1)]: Done   9 tasks      | elapsed:    8.5s\n",
      "[Parallel(n_jobs=-1)]: Done  36 out of  44 | elapsed:   23.1s remaining:    5.1s\n",
      "[Parallel(n_jobs=-1)]: Done  44 out of  44 | elapsed:   23.8s finished\n",
      "\n",
      "[2023-10-15 20:10:26] Features: 19/20 -- score: 1.0[Parallel(n_jobs=-1)]: Using backend LokyBackend with 16 concurrent workers.\n",
      "[Parallel(n_jobs=-1)]: Done   9 tasks      | elapsed:    8.7s\n",
      "[Parallel(n_jobs=-1)]: Done  34 out of  43 | elapsed:   23.3s remaining:    6.1s\n",
      "[Parallel(n_jobs=-1)]: Done  43 out of  43 | elapsed:   24.4s finished\n",
      "\n",
      "[2023-10-15 20:10:51] Features: 20/20 -- score: 1.0"
     ]
    }
   ],
   "source": [
    "from mlxtend.feature_selection import SequentialFeatureSelector as SFS\n",
    "from sklearn.linear_model import LinearRegression\n",
    "\n",
    "sfs = SFS(DecisionTreeClassifier(criterion = 'gini', random_state=1),\n",
    "          n_jobs=-1,\n",
    "          k_features=20,\n",
    "          forward=True,\n",
    "          floating=False,\n",
    "          verbose=2,\n",
    "          scoring = 'accuracy',\n",
    "          cv = 0).fit(x,y)"
   ]
  },
  {
   "cell_type": "code",
   "execution_count": 45,
   "metadata": {},
   "outputs": [],
   "source": [
    "x=sfs.transform(x)\n",
    "X=sfs.transform(X)"
   ]
  },
  {
   "cell_type": "markdown",
   "metadata": {},
   "source": [
    "spliting into training and testing data "
   ]
  },
  {
   "cell_type": "code",
   "execution_count": 13,
   "metadata": {},
   "outputs": [],
   "source": [
    "x_train,x_test,y_train,y_test=train_test_split(x,y,random_state=30)"
   ]
  },
  {
   "cell_type": "markdown",
   "metadata": {},
   "source": [
    "SVM"
   ]
  },
  {
   "cell_type": "code",
   "execution_count": 14,
   "metadata": {},
   "outputs": [
    {
     "data": {
      "text/html": [
       "<style>#sk-container-id-1 {color: black;}#sk-container-id-1 pre{padding: 0;}#sk-container-id-1 div.sk-toggleable {background-color: white;}#sk-container-id-1 label.sk-toggleable__label {cursor: pointer;display: block;width: 100%;margin-bottom: 0;padding: 0.3em;box-sizing: border-box;text-align: center;}#sk-container-id-1 label.sk-toggleable__label-arrow:before {content: \"▸\";float: left;margin-right: 0.25em;color: #696969;}#sk-container-id-1 label.sk-toggleable__label-arrow:hover:before {color: black;}#sk-container-id-1 div.sk-estimator:hover label.sk-toggleable__label-arrow:before {color: black;}#sk-container-id-1 div.sk-toggleable__content {max-height: 0;max-width: 0;overflow: hidden;text-align: left;background-color: #f0f8ff;}#sk-container-id-1 div.sk-toggleable__content pre {margin: 0.2em;color: black;border-radius: 0.25em;background-color: #f0f8ff;}#sk-container-id-1 input.sk-toggleable__control:checked~div.sk-toggleable__content {max-height: 200px;max-width: 100%;overflow: auto;}#sk-container-id-1 input.sk-toggleable__control:checked~label.sk-toggleable__label-arrow:before {content: \"▾\";}#sk-container-id-1 div.sk-estimator input.sk-toggleable__control:checked~label.sk-toggleable__label {background-color: #d4ebff;}#sk-container-id-1 div.sk-label input.sk-toggleable__control:checked~label.sk-toggleable__label {background-color: #d4ebff;}#sk-container-id-1 input.sk-hidden--visually {border: 0;clip: rect(1px 1px 1px 1px);clip: rect(1px, 1px, 1px, 1px);height: 1px;margin: -1px;overflow: hidden;padding: 0;position: absolute;width: 1px;}#sk-container-id-1 div.sk-estimator {font-family: monospace;background-color: #f0f8ff;border: 1px dotted black;border-radius: 0.25em;box-sizing: border-box;margin-bottom: 0.5em;}#sk-container-id-1 div.sk-estimator:hover {background-color: #d4ebff;}#sk-container-id-1 div.sk-parallel-item::after {content: \"\";width: 100%;border-bottom: 1px solid gray;flex-grow: 1;}#sk-container-id-1 div.sk-label:hover label.sk-toggleable__label {background-color: #d4ebff;}#sk-container-id-1 div.sk-serial::before {content: \"\";position: absolute;border-left: 1px solid gray;box-sizing: border-box;top: 0;bottom: 0;left: 50%;z-index: 0;}#sk-container-id-1 div.sk-serial {display: flex;flex-direction: column;align-items: center;background-color: white;padding-right: 0.2em;padding-left: 0.2em;position: relative;}#sk-container-id-1 div.sk-item {position: relative;z-index: 1;}#sk-container-id-1 div.sk-parallel {display: flex;align-items: stretch;justify-content: center;background-color: white;position: relative;}#sk-container-id-1 div.sk-item::before, #sk-container-id-1 div.sk-parallel-item::before {content: \"\";position: absolute;border-left: 1px solid gray;box-sizing: border-box;top: 0;bottom: 0;left: 50%;z-index: -1;}#sk-container-id-1 div.sk-parallel-item {display: flex;flex-direction: column;z-index: 1;position: relative;background-color: white;}#sk-container-id-1 div.sk-parallel-item:first-child::after {align-self: flex-end;width: 50%;}#sk-container-id-1 div.sk-parallel-item:last-child::after {align-self: flex-start;width: 50%;}#sk-container-id-1 div.sk-parallel-item:only-child::after {width: 0;}#sk-container-id-1 div.sk-dashed-wrapped {border: 1px dashed gray;margin: 0 0.4em 0.5em 0.4em;box-sizing: border-box;padding-bottom: 0.4em;background-color: white;}#sk-container-id-1 div.sk-label label {font-family: monospace;font-weight: bold;display: inline-block;line-height: 1.2em;}#sk-container-id-1 div.sk-label-container {text-align: center;}#sk-container-id-1 div.sk-container {/* jupyter's `normalize.less` sets `[hidden] { display: none; }` but bootstrap.min.css set `[hidden] { display: none !important; }` so we also need the `!important` here to be able to override the default hidden behavior on the sphinx rendered scikit-learn.org. See: https://github.com/scikit-learn/scikit-learn/issues/21755 */display: inline-block !important;position: relative;}#sk-container-id-1 div.sk-text-repr-fallback {display: none;}</style><div id=\"sk-container-id-1\" class=\"sk-top-container\"><div class=\"sk-text-repr-fallback\"><pre>SVC()</pre><b>In a Jupyter environment, please rerun this cell to show the HTML representation or trust the notebook. <br />On GitHub, the HTML representation is unable to render, please try loading this page with nbviewer.org.</b></div><div class=\"sk-container\" hidden><div class=\"sk-item\"><div class=\"sk-estimator sk-toggleable\"><input class=\"sk-toggleable__control sk-hidden--visually\" id=\"sk-estimator-id-1\" type=\"checkbox\" checked><label for=\"sk-estimator-id-1\" class=\"sk-toggleable__label sk-toggleable__label-arrow\">SVC</label><div class=\"sk-toggleable__content\"><pre>SVC()</pre></div></div></div></div></div>"
      ],
      "text/plain": [
       "SVC()"
      ]
     },
     "execution_count": 14,
     "metadata": {},
     "output_type": "execute_result"
    }
   ],
   "source": [
    "from sklearn.svm import SVC\n",
    "clf=SVC()\n",
    "clf.fit(x_train,y_train)"
   ]
  },
  {
   "cell_type": "code",
   "execution_count": 15,
   "metadata": {},
   "outputs": [],
   "source": [
    "ypred=clf.predict(x_test)\n",
    "Y_SVM=clf.predict(X)"
   ]
  },
  {
   "cell_type": "code",
   "execution_count": 16,
   "metadata": {},
   "outputs": [
    {
     "name": "stdout",
     "output_type": "stream",
     "text": [
      "validation accuracy 0.9333579063767048\n",
      "validation f1 score: 0.9164998746256988\n",
      "validation precision score 0.9425424805592825\n",
      "validation recall score: 0.8980036135498581\n",
      "accuracy: 0.9244832365169698\n",
      "f1 score: 0.9038857185568645\n",
      "precision score 0.9410754365490955\n",
      "recall score: 0.8803518091118518\n"
     ]
    }
   ],
   "source": [
    "print('validation accuracy',accuracy_score(Y,Y_SVM))\n",
    "print('validation f1 score:',f1_score(Y,Y_SVM,average='macro'))\n",
    "print('validation precision score',precision_score(Y,Y_SVM,average='macro'))\n",
    "print('validation recall score:',recall_score(Y,Y_SVM,average='macro'))\n",
    "print('accuracy:', accuracy_score(y_test,ypred))\n",
    "print('f1 score:',f1_score(y_test,ypred,average='macro'))\n",
    "print('precision score',precision_score(y_test,ypred,average='macro'))\n",
    "print('recall score:',recall_score(y_test,ypred,average='macro'))"
   ]
  },
  {
   "cell_type": "code",
   "execution_count": 17,
   "metadata": {},
   "outputs": [
    {
     "data": {
      "image/png": "[encoded data removed]",
      "text/plain": [
       "<Figure size 800x600 with 2 Axes>"
      ]
     },
     "metadata": {},
     "output_type": "display_data"
    }
   ],
   "source": [
    "# Assuming y_test is the actual labels and ypred is the predicted labels\n",
    "cm = confusion_matrix(Y,Y_SVM)\n",
    "\n",
    "# Create a heatmap of the confusion matrix\n",
    "plt.figure(figsize=(8, 6))\n",
    "sns.heatmap(cm, annot=True, fmt='d', cmap='Blues')\n",
    "plt.xlabel('Predicted')\n",
    "plt.ylabel('Actual')\n",
    "plt.title('Confusion Matrix')\n",
    "plt.show()\n"
   ]
  },
  {
   "cell_type": "markdown",
   "metadata": {},
   "source": [
    "logistics Regression"
   ]
  },
  {
   "cell_type": "code",
   "execution_count": 18,
   "metadata": {},
   "outputs": [
    {
     "name": "stderr",
     "output_type": "stream",
     "text": [
      "c:\\Users\\anura\\anaconda3\\Lib\\site-packages\\sklearn\\linear_model\\_logistic.py:460: ConvergenceWarning: lbfgs failed to converge (status=1):\n",
      "STOP: TOTAL NO. of ITERATIONS REACHED LIMIT.\n",
      "\n",
      "Increase the number of iterations (max_iter) or scale the data as shown in:\n",
      "    https://scikit-learn.org/stable/modules/preprocessing.html\n",
      "Please also refer to the documentation for alternative solver options:\n",
      "    https://scikit-learn.org/stable/modules/linear_model.html#logistic-regression\n",
      "  n_iter_i = _check_optimize_result(\n"
     ]
    }
   ],
   "source": [
    "from sklearn.linear_model import LogisticRegression\n",
    "clf = LogisticRegression(random_state=0,max_iter=1000).fit(x_train, y_train)\n",
    "ypred=clf.predict(x_test)\n",
    "Y_LoR=clf.predict(X)\n"
   ]
  },
  {
   "cell_type": "code",
   "execution_count": 19,
   "metadata": {},
   "outputs": [
    {
     "name": "stdout",
     "output_type": "stream",
     "text": [
      "validation accuracy: 0.8144489495023959\n",
      "validation f1 score: 0.7576668361357345\n",
      "validation precision score 0.7803837879094001\n",
      "validation recall score: 0.7462439196377096\n",
      "accuracy: 0.8131689912422965\n",
      "f1 score: 0.7459363427911546\n",
      "precision score 0.8000524422286709\n",
      "recall score: 0.7268381013485611\n"
     ]
    }
   ],
   "source": [
    "print('validation accuracy:', accuracy_score(Y,Y_LoR))\n",
    "print('validation f1 score:',f1_score(Y,Y_LoR,average='macro'))\n",
    "print('validation precision score',precision_score(Y,Y_LoR,average='macro'))\n",
    "print('validation recall score:',recall_score(Y,Y_LoR,average='macro'))\n",
    "print('accuracy:',accuracy_score(y_test,ypred))\n",
    "print('f1 score:',f1_score(y_test,ypred,average='macro'))\n",
    "print('precision score',precision_score(y_test,ypred,average='macro'))\n",
    "print('recall score:',recall_score(y_test,ypred,average='macro'))"
   ]
  },
  {
   "cell_type": "code",
   "execution_count": 20,
   "metadata": {},
   "outputs": [
    {
     "data": {
      "image/png": "[encoded data removed]",
      "text/plain": [
       "<Figure size 800x600 with 2 Axes>"
      ]
     },
     "metadata": {},
     "output_type": "display_data"
    }
   ],
   "source": [
    "# Get the unique class labels from y_test and ypred\n",
    "classes = np.unique(np.concatenate((Y, Y_LoR)))\n",
    "\n",
    "# Create the confusion matrix\n",
    "cm = confusion_matrix(Y, Y_LoR)\n",
    "\n",
    "# Plot the confusion matrix\n",
    "plt.figure(figsize=(8, 6))\n",
    "sns.heatmap(cm, annot=True, fmt='d', cmap='Reds')\n",
    "plt.xlabel('Predicted')\n",
    "plt.ylabel('Actual')\n",
    "plt.xticks(ticks=range(len(classes)), labels=classes)\n",
    "plt.yticks(ticks=range(len(classes)), labels=classes)\n",
    "plt.title('Confusion Matrix')\n",
    "plt.show()\n"
   ]
  },
  {
   "cell_type": "markdown",
   "metadata": {},
   "source": [
    "accuracy of logistic regression is 75.1216 %"
   ]
  },
  {
   "cell_type": "markdown",
   "metadata": {},
   "source": [
    "Random forest"
   ]
  },
  {
   "cell_type": "code",
   "execution_count": 21,
   "metadata": {},
   "outputs": [],
   "source": [
    "from sklearn.ensemble import RandomForestClassifier\n",
    "clf = RandomForestClassifier(n_estimators=50,min_samples_split=2).fit(x_train,y_train)\n",
    "ypred=clf.predict(x_test)\n",
    "Y_RF=clf.predict(X)"
   ]
  },
  {
   "cell_type": "code",
   "execution_count": 22,
   "metadata": {},
   "outputs": [
    {
     "name": "stdout",
     "output_type": "stream",
     "text": [
      "validation accuracy: 1.0\n",
      "validation f1 score: 1.0\n",
      "validation precision score 1.0\n",
      "validation recall score: 1.0\n",
      "accuracy: 1.0\n",
      "f1 score: 1.0\n",
      "precision score 1.0\n",
      "recall score: 1.0\n"
     ]
    }
   ],
   "source": [
    "print('validation accuracy:',accuracy_score(Y,Y_RF))\n",
    "print('validation f1 score:',f1_score(Y,Y_RF,average='macro'))\n",
    "print('validation precision score',precision_score(Y,Y_RF,average='macro'))\n",
    "print('validation recall score:',recall_score(Y,Y_RF,average='macro'))\n",
    "print('accuracy:',accuracy_score(y_test,ypred))\n",
    "print('f1 score:',f1_score(y_test,ypred,average='macro'))\n",
    "print('precision score',precision_score(y_test,ypred,average='macro'))\n",
    "print('recall score:',recall_score(y_test,ypred,average='macro'))"
   ]
  },
  {
   "cell_type": "code",
   "execution_count": 23,
   "metadata": {},
   "outputs": [
    {
     "data": {
      "image/png": "[encoded data removed]",
      "text/plain": [
       "<Figure size 800x600 with 2 Axes>"
      ]
     },
     "metadata": {},
     "output_type": "display_data"
    }
   ],
   "source": [
    "# Assuming y_test is the actual labels and ypred is the predicted labels\n",
    "cm = confusion_matrix(Y,Y_RF)\n",
    "\n",
    "# Create a heatmap of the confusion matrix\n",
    "plt.figure(figsize=(8, 6))\n",
    "sns.heatmap(cm, annot=True, fmt='d', cmap='Blues')\n",
    "plt.xlabel('Predicted')\n",
    "plt.ylabel('Actual')\n",
    "plt.title('Confusion Matrix')\n",
    "plt.show()\n"
   ]
  },
  {
   "cell_type": "markdown",
   "metadata": {},
   "source": [
    "accuracy of Random forest is 99.9823 %"
   ]
  },
  {
   "cell_type": "markdown",
   "metadata": {},
   "source": [
    "K-Nearest-neighbour\n"
   ]
  },
  {
   "cell_type": "code",
   "execution_count": 24,
   "metadata": {},
   "outputs": [],
   "source": [
    "from sklearn.neighbors import KNeighborsClassifier\n",
    "knn = KNeighborsClassifier(n_neighbors=5)\n",
    "knn.fit(x_train,y_train)\n",
    "ypred = knn.predict(x_test)\n",
    "Y_KNN=knn.predict(X)"
   ]
  },
  {
   "cell_type": "code",
   "execution_count": 25,
   "metadata": {},
   "outputs": [
    {
     "name": "stdout",
     "output_type": "stream",
     "text": [
      "validation accuracy: 1.0\n",
      "validation f1 score: 1.0\n",
      "validation precision score 1.0\n",
      "validation recall score: 1.0\n",
      "accuracy: 0.9999705127827087\n",
      "f1 score: 0.9999618328816161\n",
      "precision score 0.9999813613658391\n",
      "recall score: 0.9999423099111572\n"
     ]
    }
   ],
   "source": [
    "print('validation accuracy:',accuracy_score(Y,Y_KNN))\n",
    "print('validation f1 score:',f1_score(Y,Y_KNN,average='macro'))\n",
    "print('validation precision score',precision_score(Y,Y_KNN,average='macro'))\n",
    "print('validation recall score:',recall_score(Y,Y_KNN,average='macro'))\n",
    "print('accuracy:',accuracy_score(y_test,ypred))\n",
    "print('f1 score:',f1_score(y_test,ypred,average='macro'))\n",
    "print('precision score',precision_score(y_test,ypred,average='macro'))\n",
    "print('recall score:',recall_score(y_test,ypred,average='macro'))"
   ]
  },
  {
   "cell_type": "code",
   "execution_count": 26,
   "metadata": {},
   "outputs": [
    {
     "data": {
      "image/png": "[encoded data removed]",
      "text/plain": [
       "<Figure size 800x600 with 2 Axes>"
      ]
     },
     "metadata": {},
     "output_type": "display_data"
    }
   ],
   "source": [
    "# Assuming y_test is the actual labels and ypred is the predicted labels\n",
    "cm = confusion_matrix(Y,Y_KNN)\n",
    "\n",
    "# Create a heatmap of the confusion matrix\n",
    "plt.figure(figsize=(8, 6))\n",
    "sns.heatmap(cm, annot=True, fmt='d', cmap='Blues')\n",
    "plt.xlabel('Predicted')\n",
    "plt.ylabel('Actual')\n",
    "plt.title('Confusion Matrix')\n",
    "plt.show()"
   ]
  },
  {
   "cell_type": "markdown",
   "metadata": {},
   "source": [
    "accuracy of K-Nearest-neighbour is 99.9557 %"
   ]
  },
  {
   "cell_type": "markdown",
   "metadata": {},
   "source": [
    "Naives Bayes    \n"
   ]
  },
  {
   "cell_type": "code",
   "execution_count": 27,
   "metadata": {},
   "outputs": [],
   "source": [
    "clf1 = GaussianNB()\n",
    "clf1.fit(x_train, y_train)\n",
    "ypred=clf1.predict(x_test)\n",
    "Y_NB=clf1.predict(X)"
   ]
  },
  {
   "cell_type": "code",
   "execution_count": 28,
   "metadata": {},
   "outputs": [
    {
     "name": "stdout",
     "output_type": "stream",
     "text": [
      "validation accuracy: 0.5317360855141909\n",
      "validation f1 score: 0.23143067988577662\n",
      "validation precision score 0.17724536183806364\n",
      "validation recall score: 0.3333333333333333\n",
      "accuracy: 0.5930174269454191\n",
      "f1 score: 0.5574871580289736\n",
      "precision score 0.5551755333200575\n",
      "recall score: 0.5729544594579076\n"
     ]
    },
    {
     "name": "stderr",
     "output_type": "stream",
     "text": [
      "c:\\Users\\anura\\anaconda3\\Lib\\site-packages\\sklearn\\metrics\\_classification.py:1469: UndefinedMetricWarning: Precision is ill-defined and being set to 0.0 in labels with no predicted samples. Use `zero_division` parameter to control this behavior.\n",
      "  _warn_prf(average, modifier, msg_start, len(result))\n"
     ]
    }
   ],
   "source": [
    "print('validation accuracy:',accuracy_score(Y,Y_NB))\n",
    "print('validation f1 score:',f1_score(Y,Y_NB,average='macro'))\n",
    "print('validation precision score',precision_score(Y,Y_NB,average='macro'))\n",
    "print('validation recall score:',recall_score(Y,Y_NB,average='macro'))\n",
    "print('accuracy:',accuracy_score(y_test,ypred))\n",
    "print('f1 score:',f1_score(y_test,ypred,average='macro'))\n",
    "print('precision score',precision_score(y_test,ypred,average='macro'))\n",
    "print('recall score:',recall_score(y_test,ypred,average='macro'))"
   ]
  },
  {
   "cell_type": "code",
   "execution_count": 29,
   "metadata": {},
   "outputs": [
    {
     "data": {
      "image/png": "[encoded data removed]",
      "text/plain": [
       "<Figure size 800x600 with 2 Axes>"
      ]
     },
     "metadata": {},
     "output_type": "display_data"
    }
   ],
   "source": [
    "# Assuming y_test is the actual labels and ypred is the predicted labels\n",
    "cm = confusion_matrix(Y,Y_NB)\n",
    "\n",
    "# Create a heatmap of the confusion matrix\n",
    "plt.figure(figsize=(8, 6))\n",
    "sns.heatmap(cm, annot=True, fmt='d', cmap='Blues')\n",
    "plt.xlabel('Predicted')\n",
    "plt.ylabel('Actual')\n",
    "plt.title('Confusion Matrix')\n",
    "plt.show()"
   ]
  },
  {
   "cell_type": "markdown",
   "metadata": {},
   "source": [
    "Decision Tree"
   ]
  },
  {
   "cell_type": "code",
   "execution_count": 30,
   "metadata": {},
   "outputs": [],
   "source": [
    "clf4 = DecisionTreeClassifier(criterion = 'gini', random_state=1)\n",
    "clf4.fit(x_train, y_train)\n",
    "ypred=clf4.predict(x_test)\n",
    "Y_DF=clf4.predict(X)"
   ]
  },
  {
   "cell_type": "code",
   "execution_count": 31,
   "metadata": {},
   "outputs": [
    {
     "name": "stdout",
     "output_type": "stream",
     "text": [
      "validation accuracy: 0.9767047548838924\n",
      "validation f1 score: 0.976054697860287\n",
      "validation precision score 0.975791069708173\n",
      "validation recall score: 0.9763397810938805\n",
      "accuracy: 0.9983782030489783\n",
      "f1 score: 0.9981295041201772\n",
      "precision score 0.9983867318485005\n",
      "recall score: 0.9978736887451055\n"
     ]
    }
   ],
   "source": [
    "print('validation accuracy:',accuracy_score(Y,Y_DF))\n",
    "print('validation f1 score:',f1_score(Y,Y_DF,average='macro'))\n",
    "print('validation precision score',precision_score(Y,Y_DF,average='macro'))\n",
    "print('validation recall score:',recall_score(Y,Y_DF,average='macro'))\n",
    "print('accuracy:',accuracy_score(y_test,ypred))\n",
    "print('f1 score:',f1_score(y_test,ypred,average='macro'))\n",
    "print('precision score',precision_score(y_test,ypred,average='macro'))\n",
    "print('recall score:',recall_score(y_test,ypred,average='macro'))"
   ]
  },
  {
   "cell_type": "code",
   "execution_count": 32,
   "metadata": {},
   "outputs": [
    {
     "data": {
      "image/png": "[encoded data removed]",
      "text/plain": [
       "<Figure size 800x600 with 2 Axes>"
      ]
     },
     "metadata": {},
     "output_type": "display_data"
    }
   ],
   "source": [
    "# Assuming y_test is the actual labels and ypred is the predicted labels\n",
    "cm = confusion_matrix(Y,Y_DF)\n",
    "\n",
    "# Create a heatmap of the confusion matrix\n",
    "plt.figure(figsize=(8, 6))\n",
    "sns.heatmap(cm, annot=True, fmt='d', cmap='Blues')\n",
    "plt.xlabel('Predicted')\n",
    "plt.ylabel('Actual')\n",
    "plt.title('Confusion Matrix')\n",
    "plt.show()"
   ]
  },
  {
   "cell_type": "markdown",
   "metadata": {},
   "source": [
    "Bagging \n"
   ]
  },
  {
   "cell_type": "code",
   "execution_count": 33,
   "metadata": {},
   "outputs": [],
   "source": [
    "bgcl_model = BaggingClassifier(estimator=clf4, n_estimators=50,random_state=1)\n",
    "bgcl_model.fit(x_train, y_train)\n",
    "ypred=bgcl_model.predict(x_test)\n",
    "Y_bag=bgcl_model.predict(X)"
   ]
  },
  {
   "cell_type": "code",
   "execution_count": 34,
   "metadata": {},
   "outputs": [
    {
     "name": "stdout",
     "output_type": "stream",
     "text": [
      "validation accuracy: 0.98997419830446\n",
      "validation f1 score: 0.9901116880452828\n",
      "validation precision score 0.9889422940122884\n",
      "validation recall score: 0.9913473487965444\n",
      "accuracy: 0.9997346150443782\n",
      "f1 score: 0.9996689645571731\n",
      "precision score 0.999832327297116\n",
      "recall score: 0.9995059653082463\n"
     ]
    }
   ],
   "source": [
    "print('validation accuracy:',accuracy_score(Y,Y_bag))\n",
    "print('validation f1 score:',f1_score(Y,Y_bag,average='macro'))\n",
    "print('validation precision score',precision_score(Y,Y_bag,average='macro'))\n",
    "print('validation recall score:',recall_score(Y,Y_bag,average='macro'))\n",
    "print('accuracy:',accuracy_score(y_test,ypred))\n",
    "print('f1 score:',f1_score(y_test,ypred,average='macro'))\n",
    "print('precision score',precision_score(y_test,ypred,average='macro'))\n",
    "print('recall score:',recall_score(y_test,ypred,average='macro'))"
   ]
  },
  {
   "cell_type": "code",
   "execution_count": 35,
   "metadata": {},
   "outputs": [
    {
     "data": {
      "image/png": "[encoded data removed]",
      "text/plain": [
       "<Figure size 800x600 with 2 Axes>"
      ]
     },
     "metadata": {},
     "output_type": "display_data"
    }
   ],
   "source": [
    "# Assuming y_test is the actual labels and ypred is the predicted labels\n",
    "cm = confusion_matrix(Y,Y_bag)\n",
    "\n",
    "# Create a heatmap of the confusion matrix\n",
    "plt.figure(figsize=(8, 6))\n",
    "sns.heatmap(cm, annot=True, fmt='d', cmap='Blues')\n",
    "plt.xlabel('Predicted')\n",
    "plt.ylabel('Actual')\n",
    "plt.title('Confusion Matrix')\n",
    "plt.show()"
   ]
  },
  {
   "cell_type": "markdown",
   "metadata": {},
   "source": [
    "Boosting \n",
    "Ada Boosting"
   ]
  },
  {
   "cell_type": "code",
   "execution_count": 36,
   "metadata": {},
   "outputs": [],
   "source": [
    "abcl_model = AdaBoostClassifier(n_estimators=10, random_state=1)\n",
    "abcl_model.fit(x_train,y_train)\n",
    "ypred=abcl_model.predict(x_test)\n",
    "Y_ada=abcl_model.predict(X)"
   ]
  },
  {
   "cell_type": "code",
   "execution_count": 37,
   "metadata": {},
   "outputs": [
    {
     "name": "stdout",
     "output_type": "stream",
     "text": [
      "validation accuracy: 0.7775156653151493\n",
      "validation f1 score: 0.6440599949433596\n",
      "validation precision score 0.733123915816738\n",
      "validation recall score: 0.6471951626464482\n",
      "accuracy: 0.7685253442632619\n",
      "f1 score: 0.6342388268622888\n",
      "precision score 0.7163779291888365\n",
      "recall score: 0.6407788254480411\n"
     ]
    }
   ],
   "source": [
    "print('validation accuracy:',accuracy_score(Y,Y_ada))\n",
    "print('validation f1 score:',f1_score(Y,Y_ada,average='macro'))\n",
    "print('validation precision score',precision_score(Y,Y_ada,average='macro'))\n",
    "print('validation recall score:',recall_score(Y,Y_ada,average='macro'))\n",
    "print('accuracy:',accuracy_score(y_test,ypred))\n",
    "print('f1 score:',f1_score(y_test,ypred,average='macro'))\n",
    "print('precision score',precision_score(y_test,ypred,average='macro'))\n",
    "print('recall score:',recall_score(y_test,ypred,average='macro'))"
   ]
  },
  {
   "cell_type": "code",
   "execution_count": 38,
   "metadata": {},
   "outputs": [
    {
     "data": {
      "image/png": "[encoded data removed]",
      "text/plain": [
       "<Figure size 800x600 with 2 Axes>"
      ]
     },
     "metadata": {},
     "output_type": "display_data"
    }
   ],
   "source": [
    "# Assuming y_test is the actual labels and ypred is the predicted labels\n",
    "cm = confusion_matrix(Y,Y_ada)\n",
    "\n",
    "# Create a heatmap of the confusion matrix\n",
    "plt.figure(figsize=(8, 6))\n",
    "sns.heatmap(cm, annot=True, fmt='d', cmap='Blues')\n",
    "plt.xlabel('Predicted')\n",
    "plt.ylabel('Actual')\n",
    "plt.title('Confusion Matrix')\n",
    "plt.show()"
   ]
  },
  {
   "cell_type": "markdown",
   "metadata": {},
   "source": [
    "artificial neural network\n"
   ]
  },
  {
   "cell_type": "code",
   "execution_count": 39,
   "metadata": {},
   "outputs": [],
   "source": [
    "from keras.callbacks import Callback\n",
    "\n",
    "\n",
    "\n",
    "class Metrics(Callback):\n",
    "    \n",
    "\n",
    "    def on_train_begin(self, logs={}):\n",
    "        \n",
    "        self.val_f1s = []\n",
    "        self.val_recalls = []\n",
    "        self.val_precisions = []\n",
    "\n",
    "    def on_epoch_end(self, epoch, logs={}):\n",
    "        val_predict = (np.asarray(self.model.predict(self.model.validation_data[0]))).round()\n",
    "        val_targ = self.model.validation_data[1]\n",
    "        _val_f1 = f1_score(val_targ, val_predict)\n",
    "        _val_recall = recall_score(val_targ, val_predict)\n",
    "        _val_precision = precision_score(val_targ, val_predict)\n",
    "        self.val_f1s.append(_val_f1)\n",
    "        self.val_recalls.append(_val_recall)\n",
    "        self.val_precisions.append(_val_precision)\n",
    "        print(f\" — val_f1: {_val_f1} — val_precision: {_val_precision} — val_recall _val_recall\")\n",
    "        return\n",
    "\n",
    "\n",
    "metrics = Metrics()"
   ]
  },
  {
   "cell_type": "code",
   "execution_count": 40,
   "metadata": {},
   "outputs": [],
   "source": [
    "\n",
    "\n",
    "\n",
    "# Create the model\n",
    "model = Sequential()\n",
    "model.add(Dense(128, activation='relu', input_shape=(x_train.shape[1],)))\n",
    "model.add(Dropout(0.5))\n",
    "model.add(Dense(64, activation='relu'))\n",
    "model.add(Dropout(0.3))\n",
    "model.add(Dense(32, activation='relu'))\n",
    "model.add(Dropout(0.3))\n",
    "model.add(Dense(3, activation='softmax'))\n",
    "model.validation_data=(x_test, y_test)\n",
    "\n",
    "# Compile the model\n",
    "# model.compile(loss='sparse_categorical_crossentropy', optimizer='Nadam', metrics=['accuracy'])\n",
    "\n",
    "# # Train the model\n",
    "# history=model.fit(x_train, y_train, batch_size=32, epochs=30, validation_split=0.2, )\n",
    "\n"
   ]
  },
  {
   "cell_type": "code",
   "execution_count": 41,
   "metadata": {},
   "outputs": [],
   "source": [
    "# # Evaluate the model on the test set\n",
    "# loss, accuracy = model.evaluate(x_test, y_test)\n",
    "# print('Test loss:', loss)\n",
    "# print('Test accuracy:', accuracy)"
   ]
  },
  {
   "cell_type": "code",
   "execution_count": 42,
   "metadata": {},
   "outputs": [],
   "source": [
    "# # Get training and validation accuracy values\n",
    "# training_acc = history.history['accuracy']\n",
    "# validation_acc = history.history['val_accuracy']\n",
    "\n",
    "# # validation_acc = history.history['val_accuracy']\n",
    "# epochs = range(1, len(training_acc) + 1)\n",
    "\n",
    "# # Create a plot with enhanced visual elements\n",
    "# plt.figure(figsize=(8, 4))\n",
    "# plt.plot(epochs, training_acc, 'b', label='Training Accuracy')\n",
    "# plt.plot(epochs, validation_acc, 'r', label='Validation Accuracy')\n",
    "# plt.title('Model Accuracy', fontsize=16)\n",
    "# plt.xlabel('Epoch', fontsize=12)\n",
    "# plt.ylabel('Accuracy', fontsize=12)\n",
    "# plt.legend(fontsize=12)\n",
    "# plt.grid(True)\n",
    "# plt.xticks(fontsize=10)\n",
    "# plt.yticks(fontsize=10)\n",
    "# plt.tight_layout()\n",
    "\n",
    "# # Display the plot\n",
    "# plt.show()"
   ]
  },
  {
   "cell_type": "markdown",
   "metadata": {},
   "source": [
    "accuracy of ANN is 92.21%"
   ]
  },
  {
   "cell_type": "code",
   "execution_count": 43,
   "metadata": {},
   "outputs": [],
   "source": [
    "# import tensorflow as tf\n",
    "\n",
    "\n",
    "# # Define the model architecture\n",
    "# model = tf.keras.Sequential([\n",
    "#     tf.keras.layers.Reshape((30, 1), input_shape=(30,)),\n",
    "#     tf.keras.layers.Conv1D(32, 3, activation='relu'),\n",
    "#     tf.keras.layers.MaxPooling1D(2),\n",
    "#     tf.keras.layers.Flatten(),\n",
    "#     tf.keras.layers.Dense(64, activation='relu'),\n",
    "#     tf.keras.layers.Dense(10, activation='softmax')\n",
    "# ])\n",
    "\n",
    "# # Compile the model\n",
    "# model.compile(optimizer='Nadam', loss='sparse_categorical_crossentropy', metrics=['accuracy'])\n",
    "\n",
    "# # Train the model\n",
    "# history=model.fit(x_train, y_train, epochs=25, batch_size=16)\n",
    "\n"
   ]
  },
  {
   "cell_type": "code",
   "execution_count": 44,
   "metadata": {
    "tags": []
   },
   "outputs": [],
   "source": [
    "# # Evaluate the model on the test data\n",
    "# loss, accuracy = model.evaluate(x_test, y_test)\n",
    "# print(f'Test loss: {loss}, Test accuracy: {accuracy}')"
   ]
  }
 ],
 "metadata": {
  "kernelspec": {
   "display_name": "Python 3 (ipykernel)",
   "language": "python",
   "name": "python3"
  },
  "language_info": {
   "codemirror_mode": {
    "name": "ipython",
    "version": 3
   },
   "file_extension": ".py",
   "mimetype": "text/x-python",
   "name": "python",
   "nbconvert_exporter": "python",
   "pygments_lexer": "ipython3",
   "version": "3.11.4"
  }
 },
 "nbformat": 4,
 "nbformat_minor": 4
}
