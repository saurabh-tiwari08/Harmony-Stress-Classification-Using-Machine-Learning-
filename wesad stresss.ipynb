{
 "cells": [
  {
   "cell_type": "code",
   "execution_count": 1,
   "metadata": {},
   "outputs": [],
   "source": [
    "import numpy as np\n",
    "import pandas as pd\n",
    "import seaborn as sns\n",
    "import matplotlib.pyplot as plt\n",
    "from sklearn.neighbors import KNeighborsClassifier\n",
    "from sklearn.metrics import confusion_matrix\n",
    "from sklearn.preprocessing import MinMaxScaler\n",
    "from sklearn.model_selection import train_test_split\n",
    "from sklearn.feature_selection import SelectKBest, f_classif,chi2,mutual_info_classif\n"
   ]
  },
  {
   "attachments": {},
   "cell_type": "markdown",
   "metadata": {},
   "source": [
    "reading data from csv"
   ]
  },
  {
   "cell_type": "code",
   "execution_count": 2,
   "metadata": {},
   "outputs": [],
   "source": [
    "data=pd.read_csv(\"C:/Users/anura/Downloads\\WESAD (Raw and Processed)/dataset/2. final/datasets/hrv/wesad/combined/classification/wesad-chest-combined-classification-hrv.csv\")"
   ]
  },
  {
   "cell_type": "code",
   "execution_count": 3,
   "metadata": {},
   "outputs": [
    {
     "data": {
      "text/html": [
       "<div>\n",
       "<style scoped>\n",
       "    .dataframe tbody tr th:only-of-type {\n",
       "        vertical-align: middle;\n",
       "    }\n",
       "\n",
       "    .dataframe tbody tr th {\n",
       "        vertical-align: top;\n",
       "    }\n",
       "\n",
       "    .dataframe thead th {\n",
       "        text-align: right;\n",
       "    }\n",
       "</style>\n",
       "<table border=\"1\" class=\"dataframe\">\n",
       "  <thead>\n",
       "    <tr style=\"text-align: right;\">\n",
       "      <th></th>\n",
       "      <th>MEAN_RR</th>\n",
       "      <th>MEDIAN_RR</th>\n",
       "      <th>SDRR</th>\n",
       "      <th>RMSSD</th>\n",
       "      <th>SDSD</th>\n",
       "      <th>SDRR_RMSSD</th>\n",
       "      <th>HR</th>\n",
       "      <th>pNN25</th>\n",
       "      <th>pNN50</th>\n",
       "      <th>SD1</th>\n",
       "      <th>...</th>\n",
       "      <th>MEAN_RR_MEAN_MEAN_REL_RR</th>\n",
       "      <th>SD2_LF</th>\n",
       "      <th>HR_LF</th>\n",
       "      <th>HR_HF</th>\n",
       "      <th>HF_VLF</th>\n",
       "      <th>subject id</th>\n",
       "      <th>condition</th>\n",
       "      <th>SSSQ class</th>\n",
       "      <th>SSSQ Label</th>\n",
       "      <th>condition label</th>\n",
       "    </tr>\n",
       "  </thead>\n",
       "  <tbody>\n",
       "    <tr>\n",
       "      <th>0</th>\n",
       "      <td>660.756625</td>\n",
       "      <td>657.242305</td>\n",
       "      <td>34.857082</td>\n",
       "      <td>7.408307</td>\n",
       "      <td>7.408129</td>\n",
       "      <td>4.705134</td>\n",
       "      <td>91.050077</td>\n",
       "      <td>1.75</td>\n",
       "      <td>0.00</td>\n",
       "      <td>5.244915</td>\n",
       "      <td>...</td>\n",
       "      <td>1.092856e+07</td>\n",
       "      <td>0.134410</td>\n",
       "      <td>0.249678</td>\n",
       "      <td>7.068440</td>\n",
       "      <td>0.033515</td>\n",
       "      <td>13</td>\n",
       "      <td>baseline</td>\n",
       "      <td>medium</td>\n",
       "      <td>1</td>\n",
       "      <td>0</td>\n",
       "    </tr>\n",
       "    <tr>\n",
       "      <th>1</th>\n",
       "      <td>762.004543</td>\n",
       "      <td>769.028815</td>\n",
       "      <td>106.035926</td>\n",
       "      <td>13.591780</td>\n",
       "      <td>13.580221</td>\n",
       "      <td>7.801475</td>\n",
       "      <td>80.267696</td>\n",
       "      <td>6.00</td>\n",
       "      <td>1.00</td>\n",
       "      <td>9.614723</td>\n",
       "      <td>...</td>\n",
       "      <td>-1.039564e+06</td>\n",
       "      <td>0.125816</td>\n",
       "      <td>0.067484</td>\n",
       "      <td>5.971604</td>\n",
       "      <td>0.003921</td>\n",
       "      <td>9</td>\n",
       "      <td>baseline</td>\n",
       "      <td>low</td>\n",
       "      <td>0</td>\n",
       "      <td>0</td>\n",
       "    </tr>\n",
       "    <tr>\n",
       "      <th>2</th>\n",
       "      <td>978.587122</td>\n",
       "      <td>973.028365</td>\n",
       "      <td>80.323113</td>\n",
       "      <td>20.318045</td>\n",
       "      <td>20.316451</td>\n",
       "      <td>3.953289</td>\n",
       "      <td>61.720802</td>\n",
       "      <td>20.50</td>\n",
       "      <td>1.50</td>\n",
       "      <td>14.383937</td>\n",
       "      <td>...</td>\n",
       "      <td>-3.073518e+06</td>\n",
       "      <td>0.069888</td>\n",
       "      <td>0.038281</td>\n",
       "      <td>10.945519</td>\n",
       "      <td>0.003154</td>\n",
       "      <td>4</td>\n",
       "      <td>amusement</td>\n",
       "      <td>medium</td>\n",
       "      <td>1</td>\n",
       "      <td>1</td>\n",
       "    </tr>\n",
       "    <tr>\n",
       "      <th>3</th>\n",
       "      <td>690.333891</td>\n",
       "      <td>669.548460</td>\n",
       "      <td>79.677822</td>\n",
       "      <td>15.173680</td>\n",
       "      <td>15.173087</td>\n",
       "      <td>5.251055</td>\n",
       "      <td>87.996270</td>\n",
       "      <td>8.75</td>\n",
       "      <td>1.50</td>\n",
       "      <td>10.742463</td>\n",
       "      <td>...</td>\n",
       "      <td>-4.341078e+06</td>\n",
       "      <td>0.094345</td>\n",
       "      <td>0.074014</td>\n",
       "      <td>2.435759</td>\n",
       "      <td>0.009692</td>\n",
       "      <td>8</td>\n",
       "      <td>stress</td>\n",
       "      <td>low</td>\n",
       "      <td>0</td>\n",
       "      <td>2</td>\n",
       "    </tr>\n",
       "    <tr>\n",
       "      <th>4</th>\n",
       "      <td>724.270331</td>\n",
       "      <td>721.597785</td>\n",
       "      <td>71.663062</td>\n",
       "      <td>13.580379</td>\n",
       "      <td>13.580370</td>\n",
       "      <td>5.276956</td>\n",
       "      <td>83.637107</td>\n",
       "      <td>5.00</td>\n",
       "      <td>0.75</td>\n",
       "      <td>9.614828</td>\n",
       "      <td>...</td>\n",
       "      <td>1.311140e+07</td>\n",
       "      <td>0.076385</td>\n",
       "      <td>0.063323</td>\n",
       "      <td>3.259253</td>\n",
       "      <td>0.014438</td>\n",
       "      <td>4</td>\n",
       "      <td>stress</td>\n",
       "      <td>medium</td>\n",
       "      <td>1</td>\n",
       "      <td>2</td>\n",
       "    </tr>\n",
       "  </tbody>\n",
       "</table>\n",
       "<p>5 rows × 67 columns</p>\n",
       "</div>"
      ],
      "text/plain": [
       "      MEAN_RR   MEDIAN_RR        SDRR      RMSSD       SDSD  SDRR_RMSSD  \\\n",
       "0  660.756625  657.242305   34.857082   7.408307   7.408129    4.705134   \n",
       "1  762.004543  769.028815  106.035926  13.591780  13.580221    7.801475   \n",
       "2  978.587122  973.028365   80.323113  20.318045  20.316451    3.953289   \n",
       "3  690.333891  669.548460   79.677822  15.173680  15.173087    5.251055   \n",
       "4  724.270331  721.597785   71.663062  13.580379  13.580370    5.276956   \n",
       "\n",
       "          HR  pNN25  pNN50        SD1  ...  MEAN_RR_MEAN_MEAN_REL_RR  \\\n",
       "0  91.050077   1.75   0.00   5.244915  ...              1.092856e+07   \n",
       "1  80.267696   6.00   1.00   9.614723  ...             -1.039564e+06   \n",
       "2  61.720802  20.50   1.50  14.383937  ...             -3.073518e+06   \n",
       "3  87.996270   8.75   1.50  10.742463  ...             -4.341078e+06   \n",
       "4  83.637107   5.00   0.75   9.614828  ...              1.311140e+07   \n",
       "\n",
       "     SD2_LF     HR_LF      HR_HF    HF_VLF  subject id  condition  SSSQ class  \\\n",
       "0  0.134410  0.249678   7.068440  0.033515          13   baseline      medium   \n",
       "1  0.125816  0.067484   5.971604  0.003921           9   baseline         low   \n",
       "2  0.069888  0.038281  10.945519  0.003154           4  amusement      medium   \n",
       "3  0.094345  0.074014   2.435759  0.009692           8     stress         low   \n",
       "4  0.076385  0.063323   3.259253  0.014438           4     stress      medium   \n",
       "\n",
       "   SSSQ Label  condition label  \n",
       "0           1                0  \n",
       "1           0                0  \n",
       "2           1                1  \n",
       "3           0                2  \n",
       "4           1                2  \n",
       "\n",
       "[5 rows x 67 columns]"
      ]
     },
     "execution_count": 3,
     "metadata": {},
     "output_type": "execute_result"
    }
   ],
   "source": [
    "data.head(5)"
   ]
  },
  {
   "cell_type": "code",
   "execution_count": 4,
   "metadata": {},
   "outputs": [
    {
     "data": {
      "text/html": [
       "<div>\n",
       "<style scoped>\n",
       "    .dataframe tbody tr th:only-of-type {\n",
       "        vertical-align: middle;\n",
       "    }\n",
       "\n",
       "    .dataframe tbody tr th {\n",
       "        vertical-align: top;\n",
       "    }\n",
       "\n",
       "    .dataframe thead th {\n",
       "        text-align: right;\n",
       "    }\n",
       "</style>\n",
       "<table border=\"1\" class=\"dataframe\">\n",
       "  <thead>\n",
       "    <tr style=\"text-align: right;\">\n",
       "      <th></th>\n",
       "      <th>MEAN_RR</th>\n",
       "      <th>MEDIAN_RR</th>\n",
       "      <th>SDRR</th>\n",
       "      <th>RMSSD</th>\n",
       "      <th>SDSD</th>\n",
       "      <th>SDRR_RMSSD</th>\n",
       "      <th>HR</th>\n",
       "      <th>pNN25</th>\n",
       "      <th>pNN50</th>\n",
       "      <th>SD1</th>\n",
       "      <th>...</th>\n",
       "      <th>KURT_SQUARE</th>\n",
       "      <th>HR_SQRT</th>\n",
       "      <th>MEAN_RR_MEAN_MEAN_REL_RR</th>\n",
       "      <th>SD2_LF</th>\n",
       "      <th>HR_LF</th>\n",
       "      <th>HR_HF</th>\n",
       "      <th>HF_VLF</th>\n",
       "      <th>subject id</th>\n",
       "      <th>SSSQ Label</th>\n",
       "      <th>condition label</th>\n",
       "    </tr>\n",
       "  </thead>\n",
       "  <tbody>\n",
       "    <tr>\n",
       "      <th>count</th>\n",
       "      <td>135650.000000</td>\n",
       "      <td>135650.000000</td>\n",
       "      <td>135650.000000</td>\n",
       "      <td>135650.000000</td>\n",
       "      <td>135650.000000</td>\n",
       "      <td>135650.000000</td>\n",
       "      <td>135650.000000</td>\n",
       "      <td>135650.000000</td>\n",
       "      <td>135650.000000</td>\n",
       "      <td>135650.000000</td>\n",
       "      <td>...</td>\n",
       "      <td>1.356500e+05</td>\n",
       "      <td>135650.000000</td>\n",
       "      <td>1.356500e+05</td>\n",
       "      <td>135650.000000</td>\n",
       "      <td>135650.000000</td>\n",
       "      <td>135650.000000</td>\n",
       "      <td>135650.000000</td>\n",
       "      <td>135650.000000</td>\n",
       "      <td>135650.000000</td>\n",
       "      <td>135650.000000</td>\n",
       "    </tr>\n",
       "    <tr>\n",
       "      <th>mean</th>\n",
       "      <td>788.515184</td>\n",
       "      <td>786.845673</td>\n",
       "      <td>71.453748</td>\n",
       "      <td>14.379418</td>\n",
       "      <td>14.376136</td>\n",
       "      <td>5.247878</td>\n",
       "      <td>80.203812</td>\n",
       "      <td>10.396622</td>\n",
       "      <td>1.026915</td>\n",
       "      <td>10.178226</td>\n",
       "      <td>...</td>\n",
       "      <td>1.357090e+00</td>\n",
       "      <td>8.904329</td>\n",
       "      <td>-1.761317e+06</td>\n",
       "      <td>0.166589</td>\n",
       "      <td>0.210475</td>\n",
       "      <td>8.309048</td>\n",
       "      <td>0.041303</td>\n",
       "      <td>9.398349</td>\n",
       "      <td>0.875245</td>\n",
       "      <td>0.773727</td>\n",
       "    </tr>\n",
       "    <tr>\n",
       "      <th>std</th>\n",
       "      <td>156.334847</td>\n",
       "      <td>160.113990</td>\n",
       "      <td>33.646350</td>\n",
       "      <td>6.134973</td>\n",
       "      <td>6.134411</td>\n",
       "      <td>1.792526</td>\n",
       "      <td>17.913204</td>\n",
       "      <td>10.857041</td>\n",
       "      <td>1.865541</td>\n",
       "      <td>4.343130</td>\n",
       "      <td>...</td>\n",
       "      <td>5.323943e+00</td>\n",
       "      <td>0.957470</td>\n",
       "      <td>1.070482e+09</td>\n",
       "      <td>0.207166</td>\n",
       "      <td>0.469279</td>\n",
       "      <td>14.892431</td>\n",
       "      <td>0.081219</td>\n",
       "      <td>4.709621</td>\n",
       "      <td>0.780052</td>\n",
       "      <td>0.882485</td>\n",
       "    </tr>\n",
       "    <tr>\n",
       "      <th>min</th>\n",
       "      <td>411.068840</td>\n",
       "      <td>411.966595</td>\n",
       "      <td>13.786706</td>\n",
       "      <td>2.294390</td>\n",
       "      <td>2.292144</td>\n",
       "      <td>1.887603</td>\n",
       "      <td>48.183943</td>\n",
       "      <td>0.000000</td>\n",
       "      <td>0.000000</td>\n",
       "      <td>1.622825</td>\n",
       "      <td>...</td>\n",
       "      <td>3.871992e-10</td>\n",
       "      <td>6.941465</td>\n",
       "      <td>-3.426834e+11</td>\n",
       "      <td>0.021295</td>\n",
       "      <td>0.008200</td>\n",
       "      <td>0.294702</td>\n",
       "      <td>0.000009</td>\n",
       "      <td>2.000000</td>\n",
       "      <td>0.000000</td>\n",
       "      <td>0.000000</td>\n",
       "    </tr>\n",
       "    <tr>\n",
       "      <th>25%</th>\n",
       "      <td>695.450860</td>\n",
       "      <td>689.389645</td>\n",
       "      <td>51.839395</td>\n",
       "      <td>9.579017</td>\n",
       "      <td>9.576334</td>\n",
       "      <td>4.025865</td>\n",
       "      <td>68.227916</td>\n",
       "      <td>2.000000</td>\n",
       "      <td>0.000000</td>\n",
       "      <td>6.779992</td>\n",
       "      <td>...</td>\n",
       "      <td>6.322669e-02</td>\n",
       "      <td>8.260019</td>\n",
       "      <td>-3.607337e+06</td>\n",
       "      <td>0.073939</td>\n",
       "      <td>0.048338</td>\n",
       "      <td>2.251744</td>\n",
       "      <td>0.005567</td>\n",
       "      <td>5.000000</td>\n",
       "      <td>0.000000</td>\n",
       "      <td>0.000000</td>\n",
       "    </tr>\n",
       "    <tr>\n",
       "      <th>50%</th>\n",
       "      <td>798.200622</td>\n",
       "      <td>797.564400</td>\n",
       "      <td>65.238376</td>\n",
       "      <td>13.578235</td>\n",
       "      <td>13.576345</td>\n",
       "      <td>5.028439</td>\n",
       "      <td>75.988575</td>\n",
       "      <td>6.500000</td>\n",
       "      <td>0.000000</td>\n",
       "      <td>9.611978</td>\n",
       "      <td>...</td>\n",
       "      <td>2.536286e-01</td>\n",
       "      <td>8.717143</td>\n",
       "      <td>-9.391674e+05</td>\n",
       "      <td>0.111455</td>\n",
       "      <td>0.092320</td>\n",
       "      <td>4.213662</td>\n",
       "      <td>0.014356</td>\n",
       "      <td>9.000000</td>\n",
       "      <td>1.000000</td>\n",
       "      <td>0.000000</td>\n",
       "    </tr>\n",
       "    <tr>\n",
       "      <th>75%</th>\n",
       "      <td>888.053029</td>\n",
       "      <td>892.774831</td>\n",
       "      <td>86.848219</td>\n",
       "      <td>18.170919</td>\n",
       "      <td>18.165098</td>\n",
       "      <td>6.001586</td>\n",
       "      <td>86.975168</td>\n",
       "      <td>15.500000</td>\n",
       "      <td>1.250000</td>\n",
       "      <td>12.860790</td>\n",
       "      <td>...</td>\n",
       "      <td>7.131422e-01</td>\n",
       "      <td>9.326048</td>\n",
       "      <td>3.286467e+06</td>\n",
       "      <td>0.184950</td>\n",
       "      <td>0.203164</td>\n",
       "      <td>8.530982</td>\n",
       "      <td>0.042999</td>\n",
       "      <td>14.000000</td>\n",
       "      <td>1.000000</td>\n",
       "      <td>2.000000</td>\n",
       "    </tr>\n",
       "    <tr>\n",
       "      <th>max</th>\n",
       "      <td>1341.611513</td>\n",
       "      <td>1181.686350</td>\n",
       "      <td>418.066612</td>\n",
       "      <td>34.881131</td>\n",
       "      <td>34.880732</td>\n",
       "      <td>22.194700</td>\n",
       "      <td>146.191044</td>\n",
       "      <td>46.750000</td>\n",
       "      <td>11.500000</td>\n",
       "      <td>24.695368</td>\n",
       "      <td>...</td>\n",
       "      <td>2.459810e+02</td>\n",
       "      <td>12.090949</td>\n",
       "      <td>1.092115e+11</td>\n",
       "      <td>4.771071</td>\n",
       "      <td>9.714187</td>\n",
       "      <td>537.538316</td>\n",
       "      <td>1.129262</td>\n",
       "      <td>17.000000</td>\n",
       "      <td>2.000000</td>\n",
       "      <td>2.000000</td>\n",
       "    </tr>\n",
       "  </tbody>\n",
       "</table>\n",
       "<p>8 rows × 65 columns</p>\n",
       "</div>"
      ],
      "text/plain": [
       "             MEAN_RR      MEDIAN_RR           SDRR          RMSSD  \\\n",
       "count  135650.000000  135650.000000  135650.000000  135650.000000   \n",
       "mean      788.515184     786.845673      71.453748      14.379418   \n",
       "std       156.334847     160.113990      33.646350       6.134973   \n",
       "min       411.068840     411.966595      13.786706       2.294390   \n",
       "25%       695.450860     689.389645      51.839395       9.579017   \n",
       "50%       798.200622     797.564400      65.238376      13.578235   \n",
       "75%       888.053029     892.774831      86.848219      18.170919   \n",
       "max      1341.611513    1181.686350     418.066612      34.881131   \n",
       "\n",
       "                SDSD     SDRR_RMSSD             HR          pNN25  \\\n",
       "count  135650.000000  135650.000000  135650.000000  135650.000000   \n",
       "mean       14.376136       5.247878      80.203812      10.396622   \n",
       "std         6.134411       1.792526      17.913204      10.857041   \n",
       "min         2.292144       1.887603      48.183943       0.000000   \n",
       "25%         9.576334       4.025865      68.227916       2.000000   \n",
       "50%        13.576345       5.028439      75.988575       6.500000   \n",
       "75%        18.165098       6.001586      86.975168      15.500000   \n",
       "max        34.880732      22.194700     146.191044      46.750000   \n",
       "\n",
       "               pNN50            SD1  ...   KURT_SQUARE        HR_SQRT  \\\n",
       "count  135650.000000  135650.000000  ...  1.356500e+05  135650.000000   \n",
       "mean        1.026915      10.178226  ...  1.357090e+00       8.904329   \n",
       "std         1.865541       4.343130  ...  5.323943e+00       0.957470   \n",
       "min         0.000000       1.622825  ...  3.871992e-10       6.941465   \n",
       "25%         0.000000       6.779992  ...  6.322669e-02       8.260019   \n",
       "50%         0.000000       9.611978  ...  2.536286e-01       8.717143   \n",
       "75%         1.250000      12.860790  ...  7.131422e-01       9.326048   \n",
       "max        11.500000      24.695368  ...  2.459810e+02      12.090949   \n",
       "\n",
       "       MEAN_RR_MEAN_MEAN_REL_RR         SD2_LF          HR_LF          HR_HF  \\\n",
       "count              1.356500e+05  135650.000000  135650.000000  135650.000000   \n",
       "mean              -1.761317e+06       0.166589       0.210475       8.309048   \n",
       "std                1.070482e+09       0.207166       0.469279      14.892431   \n",
       "min               -3.426834e+11       0.021295       0.008200       0.294702   \n",
       "25%               -3.607337e+06       0.073939       0.048338       2.251744   \n",
       "50%               -9.391674e+05       0.111455       0.092320       4.213662   \n",
       "75%                3.286467e+06       0.184950       0.203164       8.530982   \n",
       "max                1.092115e+11       4.771071       9.714187     537.538316   \n",
       "\n",
       "              HF_VLF     subject id     SSSQ Label  condition label  \n",
       "count  135650.000000  135650.000000  135650.000000    135650.000000  \n",
       "mean        0.041303       9.398349       0.875245         0.773727  \n",
       "std         0.081219       4.709621       0.780052         0.882485  \n",
       "min         0.000009       2.000000       0.000000         0.000000  \n",
       "25%         0.005567       5.000000       0.000000         0.000000  \n",
       "50%         0.014356       9.000000       1.000000         0.000000  \n",
       "75%         0.042999      14.000000       1.000000         2.000000  \n",
       "max         1.129262      17.000000       2.000000         2.000000  \n",
       "\n",
       "[8 rows x 65 columns]"
      ]
     },
     "execution_count": 4,
     "metadata": {},
     "output_type": "execute_result"
    }
   ],
   "source": [
    "data.describe()"
   ]
  },
  {
   "attachments": {},
   "cell_type": "markdown",
   "metadata": {},
   "source": [
    "dividing data into X and Y variables"
   ]
  },
  {
   "cell_type": "code",
   "execution_count": 5,
   "metadata": {},
   "outputs": [],
   "source": [
    "x=data.drop(['condition','SSSQ class','SSSQ Label','condition label','subject id'],axis='columns')\n",
    "y=[\"condition\"]\n",
    "y=data[y]"
   ]
  },
  {
   "attachments": {},
   "cell_type": "markdown",
   "metadata": {},
   "source": [
    "Applyiing MinMaxScaler to normalaise the data"
   ]
  },
  {
   "cell_type": "code",
   "execution_count": 6,
   "metadata": {},
   "outputs": [],
   "source": [
    "scaler = MinMaxScaler()\n",
    "x = scaler.fit_transform(x)"
   ]
  },
  {
   "cell_type": "code",
   "execution_count": 7,
   "metadata": {},
   "outputs": [
    {
     "data": {
      "text/html": [
       "<div>\n",
       "<style scoped>\n",
       "    .dataframe tbody tr th:only-of-type {\n",
       "        vertical-align: middle;\n",
       "    }\n",
       "\n",
       "    .dataframe tbody tr th {\n",
       "        vertical-align: top;\n",
       "    }\n",
       "\n",
       "    .dataframe thead th {\n",
       "        text-align: right;\n",
       "    }\n",
       "</style>\n",
       "<table border=\"1\" class=\"dataframe\">\n",
       "  <thead>\n",
       "    <tr style=\"text-align: right;\">\n",
       "      <th></th>\n",
       "      <th>condition</th>\n",
       "    </tr>\n",
       "  </thead>\n",
       "  <tbody>\n",
       "    <tr>\n",
       "      <th>0</th>\n",
       "      <td>baseline</td>\n",
       "    </tr>\n",
       "    <tr>\n",
       "      <th>1</th>\n",
       "      <td>baseline</td>\n",
       "    </tr>\n",
       "    <tr>\n",
       "      <th>2</th>\n",
       "      <td>amusement</td>\n",
       "    </tr>\n",
       "    <tr>\n",
       "      <th>3</th>\n",
       "      <td>stress</td>\n",
       "    </tr>\n",
       "    <tr>\n",
       "      <th>4</th>\n",
       "      <td>stress</td>\n",
       "    </tr>\n",
       "  </tbody>\n",
       "</table>\n",
       "</div>"
      ],
      "text/plain": [
       "   condition\n",
       "0   baseline\n",
       "1   baseline\n",
       "2  amusement\n",
       "3     stress\n",
       "4     stress"
      ]
     },
     "execution_count": 7,
     "metadata": {},
     "output_type": "execute_result"
    }
   ],
   "source": [
    "y.head()"
   ]
  },
  {
   "attachments": {},
   "cell_type": "markdown",
   "metadata": {},
   "source": [
    "converting qualitative data into qualtitaive data"
   ]
  },
  {
   "cell_type": "code",
   "execution_count": 8,
   "metadata": {},
   "outputs": [
    {
     "name": "stderr",
     "output_type": "stream",
     "text": [
      "C:\\Users\\anura\\AppData\\Local\\Programs\\Python\\Python310\\lib\\site-packages\\sklearn\\preprocessing\\_label.py:116: DataConversionWarning: A column-vector y was passed when a 1d array was expected. Please change the shape of y to (n_samples, ), for example using ravel().\n",
      "  y = column_or_1d(y, warn=True)\n"
     ]
    }
   ],
   "source": [
    "from sklearn.preprocessing import LabelEncoder\n",
    "la=LabelEncoder()\n",
    "y=la.fit_transform(y)"
   ]
  },
  {
   "attachments": {},
   "cell_type": "markdown",
   "metadata": {},
   "source": [
    "Feature selection using SelectKBest with F_classif"
   ]
  },
  {
   "cell_type": "code",
   "execution_count": 9,
   "metadata": {},
   "outputs": [],
   "source": [
    "x=SelectKBest(f_classif,k=20).fit_transform(x,y)"
   ]
  },
  {
   "attachments": {},
   "cell_type": "markdown",
   "metadata": {},
   "source": [
    "spliting into training and testing data "
   ]
  },
  {
   "cell_type": "code",
   "execution_count": 10,
   "metadata": {},
   "outputs": [],
   "source": [
    "x_train,x_test,y_train,y_test=train_test_split(x,y,random_state=30)"
   ]
  },
  {
   "attachments": {},
   "cell_type": "markdown",
   "metadata": {},
   "source": [
    "logistics Regression"
   ]
  },
  {
   "cell_type": "code",
   "execution_count": 11,
   "metadata": {},
   "outputs": [
    {
     "name": "stderr",
     "output_type": "stream",
     "text": [
      "C:\\Users\\anura\\AppData\\Local\\Programs\\Python\\Python310\\lib\\site-packages\\sklearn\\linear_model\\_logistic.py:458: ConvergenceWarning: lbfgs failed to converge (status=1):\n",
      "STOP: TOTAL NO. of ITERATIONS REACHED LIMIT.\n",
      "\n",
      "Increase the number of iterations (max_iter) or scale the data as shown in:\n",
      "    https://scikit-learn.org/stable/modules/preprocessing.html\n",
      "Please also refer to the documentation for alternative solver options:\n",
      "    https://scikit-learn.org/stable/modules/linear_model.html#logistic-regression\n",
      "  n_iter_i = _check_optimize_result(\n"
     ]
    }
   ],
   "source": [
    "from sklearn.linear_model import LogisticRegression\n",
    "clf = LogisticRegression(random_state=0).fit(x_train, y_train)\n",
    "ypred=clf.predict(x_test)\n"
   ]
  },
  {
   "cell_type": "code",
   "execution_count": 12,
   "metadata": {},
   "outputs": [
    {
     "data": {
      "text/plain": [
       "0.7512163477132663"
      ]
     },
     "execution_count": 12,
     "metadata": {},
     "output_type": "execute_result"
    }
   ],
   "source": [
    "from sklearn.metrics import accuracy_score\n",
    "accuracy = accuracy_score(y_test,ypred)\n",
    "accuracy\n"
   ]
  },
  {
   "cell_type": "code",
   "execution_count": 13,
   "metadata": {},
   "outputs": [
    {
     "data": {
      "image/png": "[encoded data removed]",
      "text/plain": [
       "<Figure size 800x600 with 2 Axes>"
      ]
     },
     "metadata": {},
     "output_type": "display_data"
    }
   ],
   "source": [
    "# Get the unique class labels from y_test and ypred\n",
    "classes = np.unique(np.concatenate((y_test, ypred)))\n",
    "\n",
    "# Create the confusion matrix\n",
    "cm = confusion_matrix(y_test, ypred)\n",
    "\n",
    "# Plot the confusion matrix\n",
    "plt.figure(figsize=(8, 6))\n",
    "sns.heatmap(cm, annot=True, fmt='d', cmap='Reds')\n",
    "plt.xlabel('Predicted')\n",
    "plt.ylabel('Actual')\n",
    "plt.xticks(ticks=range(len(classes)), labels=classes)\n",
    "plt.yticks(ticks=range(len(classes)), labels=classes)\n",
    "plt.title('Confusion Matrix')\n",
    "plt.show()\n"
   ]
  },
  {
   "attachments": {},
   "cell_type": "markdown",
   "metadata": {},
   "source": [
    "accuracy of logistic regression is 75.1216 %"
   ]
  },
  {
   "attachments": {},
   "cell_type": "markdown",
   "metadata": {},
   "source": [
    "Random forest"
   ]
  },
  {
   "cell_type": "code",
   "execution_count": 14,
   "metadata": {},
   "outputs": [],
   "source": [
    "from sklearn.ensemble import RandomForestClassifier\n",
    "clf = RandomForestClassifier().fit(x_train,y_train)\n",
    "ypred=clf.predict(x_test)"
   ]
  },
  {
   "cell_type": "code",
   "execution_count": 15,
   "metadata": {},
   "outputs": [
    {
     "data": {
      "text/plain": [
       "0.9997641022616696"
      ]
     },
     "execution_count": 15,
     "metadata": {},
     "output_type": "execute_result"
    }
   ],
   "source": [
    "accuracy = accuracy_score(y_test,ypred)\n",
    "accuracy"
   ]
  },
  {
   "cell_type": "code",
   "execution_count": 16,
   "metadata": {},
   "outputs": [
    {
     "data": {
      "image/png": "[encoded data removed]",
      "text/plain": [
       "<Figure size 800x600 with 2 Axes>"
      ]
     },
     "metadata": {},
     "output_type": "display_data"
    }
   ],
   "source": [
    "# Assuming y_test is the actual labels and ypred is the predicted labels\n",
    "cm = confusion_matrix(y_test, ypred)\n",
    "\n",
    "# Create a heatmap of the confusion matrix\n",
    "plt.figure(figsize=(8, 6))\n",
    "sns.heatmap(cm, annot=True, fmt='d', cmap='Blues')\n",
    "plt.xlabel('Predicted')\n",
    "plt.ylabel('Actual')\n",
    "plt.title('Confusion Matrix')\n",
    "plt.show()\n"
   ]
  },
  {
   "attachments": {},
   "cell_type": "markdown",
   "metadata": {},
   "source": [
    "accuracy of Random forest is 99.9793 %"
   ]
  },
  {
   "attachments": {},
   "cell_type": "markdown",
   "metadata": {},
   "source": [
    "K-Nearest-neighbour\n"
   ]
  },
  {
   "cell_type": "code",
   "execution_count": 17,
   "metadata": {},
   "outputs": [],
   "source": [
    "from sklearn.neighbors import KNeighborsClassifier\n",
    "knn = KNeighborsClassifier(n_neighbors=5)\n",
    "knn.fit(x_train,y_train)\n",
    "ypred = knn.predict(x_test)"
   ]
  },
  {
   "cell_type": "code",
   "execution_count": 18,
   "metadata": {},
   "outputs": [
    {
     "data": {
      "text/plain": [
       "0.9995576917406305"
      ]
     },
     "execution_count": 18,
     "metadata": {},
     "output_type": "execute_result"
    }
   ],
   "source": [
    "accuracy = accuracy_score(y_test,ypred)\n",
    "accuracy"
   ]
  },
  {
   "attachments": {},
   "cell_type": "markdown",
   "metadata": {},
   "source": [
    "accuracy of K-Nearest-neighbour is 99.9557 %"
   ]
  },
  {
   "attachments": {},
   "cell_type": "markdown",
   "metadata": {},
   "source": [
    "artificial neural network\n"
   ]
  },
  {
   "cell_type": "code",
   "execution_count": 19,
   "metadata": {},
   "outputs": [
    {
     "name": "stdout",
     "output_type": "stream",
     "text": [
      "Epoch 1/30\n",
      "2544/2544 [==============================] - 11s 3ms/step - loss: 0.6416 - accuracy: 0.7259 - val_loss: 0.4943 - val_accuracy: 0.8011\n",
      "Epoch 2/30\n",
      "2544/2544 [==============================] - 8s 3ms/step - loss: 0.5152 - accuracy: 0.7858 - val_loss: 0.4350 - val_accuracy: 0.8233\n",
      "Epoch 3/30\n",
      "2544/2544 [==============================] - 8s 3ms/step - loss: 0.4757 - accuracy: 0.8040 - val_loss: 0.3852 - val_accuracy: 0.8425\n",
      "Epoch 4/30\n",
      "2544/2544 [==============================] - 8s 3ms/step - loss: 0.4486 - accuracy: 0.8159 - val_loss: 0.3506 - val_accuracy: 0.8691\n",
      "Epoch 5/30\n",
      "2544/2544 [==============================] - 8s 3ms/step - loss: 0.4336 - accuracy: 0.8232 - val_loss: 0.3342 - val_accuracy: 0.8685\n",
      "Epoch 6/30\n",
      "2544/2544 [==============================] - 8s 3ms/step - loss: 0.4187 - accuracy: 0.8294 - val_loss: 0.3423 - val_accuracy: 0.8617\n",
      "Epoch 7/30\n",
      "2544/2544 [==============================] - 8s 3ms/step - loss: 0.4111 - accuracy: 0.8327 - val_loss: 0.3218 - val_accuracy: 0.8728\n",
      "Epoch 8/30\n",
      "2544/2544 [==============================] - 8s 3ms/step - loss: 0.4016 - accuracy: 0.8363 - val_loss: 0.3144 - val_accuracy: 0.8718\n",
      "Epoch 9/30\n",
      "2544/2544 [==============================] - 9s 3ms/step - loss: 0.3955 - accuracy: 0.8398 - val_loss: 0.2956 - val_accuracy: 0.8847\n",
      "Epoch 10/30\n",
      "2544/2544 [==============================] - 9s 4ms/step - loss: 0.3917 - accuracy: 0.8399 - val_loss: 0.2931 - val_accuracy: 0.8782\n",
      "Epoch 11/30\n",
      "2544/2544 [==============================] - 8s 3ms/step - loss: 0.3861 - accuracy: 0.8429 - val_loss: 0.2854 - val_accuracy: 0.8845\n",
      "Epoch 12/30\n",
      "2544/2544 [==============================] - 8s 3ms/step - loss: 0.3823 - accuracy: 0.8455 - val_loss: 0.2773 - val_accuracy: 0.8890\n",
      "Epoch 13/30\n",
      "2544/2544 [==============================] - 8s 3ms/step - loss: 0.3747 - accuracy: 0.8468 - val_loss: 0.2694 - val_accuracy: 0.8914\n",
      "Epoch 14/30\n",
      "2544/2544 [==============================] - 6s 2ms/step - loss: 0.3708 - accuracy: 0.8476 - val_loss: 0.2620 - val_accuracy: 0.8944\n",
      "Epoch 15/30\n",
      "2544/2544 [==============================] - 10804s 4s/step - loss: 0.3689 - accuracy: 0.8515 - val_loss: 0.2690 - val_accuracy: 0.8897\n",
      "Epoch 16/30\n",
      "2544/2544 [==============================] - 5786s 2s/step - loss: 0.3637 - accuracy: 0.8517 - val_loss: 0.2488 - val_accuracy: 0.8927\n",
      "Epoch 17/30\n",
      "2544/2544 [==============================] - 3s 1ms/step - loss: 0.3631 - accuracy: 0.8524 - val_loss: 0.2558 - val_accuracy: 0.8941\n",
      "Epoch 18/30\n",
      "1662/2544 [==================>...........] - ETA: 1s - loss: 0.3546 - accuracy: 0.8555"
     ]
    }
   ],
   "source": [
    "from keras.models import Sequential\n",
    "from keras.layers.core import Dense, Dropout, Activation\n",
    "\n",
    "\n",
    "# Create the model\n",
    "model = Sequential()\n",
    "model.add(Dense(128, activation='relu', input_shape=(x_train.shape[1],)))\n",
    "model.add(Dropout(0.5))\n",
    "model.add(Dense(64, activation='relu'))\n",
    "model.add(Dropout(0.3))\n",
    "model.add(Dense(32, activation='relu'))\n",
    "model.add(Dropout(0.3))\n",
    "model.add(Dense(3, activation='softmax'))\n",
    "\n",
    "# Compile the model\n",
    "model.compile(loss='sparse_categorical_crossentropy', optimizer='Nadam', metrics=['accuracy'])\n",
    "\n",
    "# Train the model\n",
    "history=model.fit(x_train, y_train, batch_size=32, epochs=30, validation_split=0.2)\n",
    "\n"
   ]
  },
  {
   "cell_type": "code",
   "execution_count": null,
   "metadata": {},
   "outputs": [
    {
     "name": "stdout",
     "output_type": "stream",
     "text": [
      "1060/1060 [==============================] - 1s 797us/step - loss: 0.2307 - accuracy: 0.9041\n",
      "Test loss: 0.23071083426475525\n",
      "Test accuracy: 0.9040780663490295\n"
     ]
    }
   ],
   "source": [
    "# Evaluate the model on the test set\n",
    "loss, accuracy = model.evaluate(x_test, y_test)\n",
    "print('Test loss:', loss)\n",
    "print('Test accuracy:', accuracy)"
   ]
  },
  {
   "cell_type": "code",
   "execution_count": null,
   "metadata": {},
   "outputs": [
    {
     "data": {
      "image/png": "[encoded data removed]",
      "text/plain": [
       "<Figure size 800x400 with 1 Axes>"
      ]
     },
     "metadata": {},
     "output_type": "display_data"
    }
   ],
   "source": [
    "# Get training and validation accuracy values\n",
    "training_acc = history.history['accuracy']\n",
    "validation_acc = history.history['val_accuracy']\n",
    "\n",
    "# validation_acc = history.history['val_accuracy']\n",
    "epochs = range(1, len(training_acc) + 1)\n",
    "\n",
    "# Create a plot with enhanced visual elements\n",
    "plt.figure(figsize=(8, 4))\n",
    "plt.plot(epochs, training_acc, 'b', label='Training Accuracy')\n",
    "plt.plot(epochs, validation_acc, 'r', label='Validation Accuracy')\n",
    "plt.title('Model Accuracy', fontsize=16)\n",
    "plt.xlabel('Epoch', fontsize=12)\n",
    "plt.ylabel('Accuracy', fontsize=12)\n",
    "plt.legend(fontsize=12)\n",
    "plt.grid(True)\n",
    "plt.xticks(fontsize=10)\n",
    "plt.yticks(fontsize=10)\n",
    "plt.tight_layout()\n",
    "\n",
    "# Display the plot\n",
    "plt.show()"
   ]
  },
  {
   "attachments": {},
   "cell_type": "markdown",
   "metadata": {},
   "source": [
    "accuracy of ANN is 92.21%"
   ]
  },
  {
   "cell_type": "code",
   "execution_count": null,
   "metadata": {},
   "outputs": [
    {
     "name": "stdout",
     "output_type": "stream",
     "text": [
      "Epoch 1/25\n",
      "6359/6359 [==============================] - 10s 1ms/step - loss: 0.5892 - accuracy: 0.7502\n",
      "Epoch 2/25\n",
      "6359/6359 [==============================] - 9s 1ms/step - loss: 0.4609 - accuracy: 0.8125\n",
      "Epoch 3/25\n",
      "6359/6359 [==============================] - 8s 1ms/step - loss: 0.3838 - accuracy: 0.8476\n",
      "Epoch 4/25\n",
      "6359/6359 [==============================] - 9s 1ms/step - loss: 0.3341 - accuracy: 0.8679\n",
      "Epoch 5/25\n",
      "6359/6359 [==============================] - 9s 1ms/step - loss: 0.2990 - accuracy: 0.8840\n",
      "Epoch 6/25\n",
      "6359/6359 [==============================] - 10s 2ms/step - loss: 0.2709 - accuracy: 0.8959\n",
      "Epoch 7/25\n",
      "6359/6359 [==============================] - 9s 1ms/step - loss: 0.2478 - accuracy: 0.9045\n",
      "Epoch 8/25\n",
      "6359/6359 [==============================] - 10s 2ms/step - loss: 0.2312 - accuracy: 0.9107\n",
      "Epoch 9/25\n",
      "6359/6359 [==============================] - 9s 1ms/step - loss: 0.2167 - accuracy: 0.9169\n",
      "Epoch 10/25\n",
      "6359/6359 [==============================] - 10s 2ms/step - loss: 0.2037 - accuracy: 0.9214\n",
      "Epoch 11/25\n",
      "6359/6359 [==============================] - 10s 2ms/step - loss: 0.1914 - accuracy: 0.9259\n",
      "Epoch 12/25\n",
      "6359/6359 [==============================] - 9s 1ms/step - loss: 0.1815 - accuracy: 0.9303\n",
      "Epoch 13/25\n",
      "6359/6359 [==============================] - 9s 1ms/step - loss: 0.1731 - accuracy: 0.9333\n",
      "Epoch 14/25\n",
      "6359/6359 [==============================] - 10s 2ms/step - loss: 0.1650 - accuracy: 0.9363\n",
      "Epoch 15/25\n",
      "6359/6359 [==============================] - 12s 2ms/step - loss: 0.1575 - accuracy: 0.9393\n",
      "Epoch 16/25\n",
      "6359/6359 [==============================] - 11s 2ms/step - loss: 0.1510 - accuracy: 0.9418\n",
      "Epoch 17/25\n",
      "6359/6359 [==============================] - 9s 1ms/step - loss: 0.1452 - accuracy: 0.9440\n",
      "Epoch 18/25\n",
      "6359/6359 [==============================] - 9s 1ms/step - loss: 0.1395 - accuracy: 0.9471\n",
      "Epoch 19/25\n",
      "6359/6359 [==============================] - 9s 1ms/step - loss: 0.1347 - accuracy: 0.9483\n",
      "Epoch 20/25\n",
      "6359/6359 [==============================] - 9s 1ms/step - loss: 0.1296 - accuracy: 0.9499\n",
      "Epoch 21/25\n",
      "6359/6359 [==============================] - 9s 1ms/step - loss: 0.1253 - accuracy: 0.9516\n",
      "Epoch 22/25\n",
      "6359/6359 [==============================] - 9s 1ms/step - loss: 0.1198 - accuracy: 0.9544\n",
      "Epoch 23/25\n",
      "6359/6359 [==============================] - 9s 1ms/step - loss: 0.1166 - accuracy: 0.9556\n",
      "Epoch 24/25\n",
      "6359/6359 [==============================] - 9s 1ms/step - loss: 0.1132 - accuracy: 0.9571\n",
      "Epoch 25/25\n",
      "6359/6359 [==============================] - 9s 1ms/step - loss: 0.1116 - accuracy: 0.9578\n"
     ]
    }
   ],
   "source": [
    "import tensorflow as tf\n",
    "\n",
    "\n",
    "# Define the model architecture\n",
    "model = tf.keras.Sequential([\n",
    "    tf.keras.layers.Reshape((20, 1), input_shape=(20,)),\n",
    "    tf.keras.layers.Conv1D(32, 3, activation='relu'),\n",
    "    tf.keras.layers.MaxPooling1D(2),\n",
    "    tf.keras.layers.Flatten(),\n",
    "    tf.keras.layers.Dense(64, activation='relu'),\n",
    "    tf.keras.layers.Dense(10, activation='softmax')\n",
    "])\n",
    "\n",
    "# Compile the model\n",
    "model.compile(optimizer='Nadam', loss='sparse_categorical_crossentropy', metrics=['accuracy'])\n",
    "\n",
    "# Train the model\n",
    "model.fit(x_train, y_train, epochs=25, batch_size=16)\n",
    "\n"
   ]
  },
  {
   "cell_type": "code",
   "execution_count": null,
   "metadata": {},
   "outputs": [
    {
     "name": "stdout",
     "output_type": "stream",
     "text": [
      "1060/1060 [==============================] - 1s 971us/step - loss: 0.1205 - accuracy: 0.9507\n",
      "Test loss: 0.12054970860481262, Test accuracy: 0.9506973624229431\n"
     ]
    }
   ],
   "source": [
    "# Evaluate the model on the test data\n",
    "loss, accuracy = model.evaluate(x_test, y_test)\n",
    "print(f'Test loss: {loss}, Test accuracy: {accuracy}')"
   ]
  }
 ],
 "metadata": {
  "kernelspec": {
   "display_name": "Python 3 (ipykernel)",
   "language": "python",
   "name": "python3"
  },
  "language_info": {
   "codemirror_mode": {
    "name": "ipython",
    "version": 3
   },
   "file_extension": ".py",
   "mimetype": "text/x-python",
   "name": "python",
   "nbconvert_exporter": "python",
   "pygments_lexer": "ipython3",
   "version": "3.10.2"
  },
  "orig_nbformat": 4
 },
 "nbformat": 4,
 "nbformat_minor": 2
}
